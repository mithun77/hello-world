{
 "cells": [
  {
   "cell_type": "markdown",
   "metadata": {
    "colab_type": "text",
    "id": "Syi0Qjf5To3l"
   },
   "source": [
    "# STAT MID EXAM"
   ]
  },
  {
   "cell_type": "markdown",
   "metadata": {
    "colab_type": "text",
    "id": "OPpWn_mDTo3m"
   },
   "source": [
    "### We combined two datasets in single CSV file mention below columns belongs to \n",
    "\n",
    "it consists of all the information regarding telecom industry for any telecom industry Churning rate of customers\n",
    "#### Churn dataset: \n",
    "    \n",
    "     ** customerID  **\n",
    "     \n",
    "     ** gender  **\n",
    "     \n",
    "     ** SeniorCitizen  **\n",
    "     \n",
    "     ** Partner  **\n",
    "     \n",
    "     ** Dependents  **\n",
    "     \n",
    "     ** tenure  **\n",
    "     \n",
    "     ** PhoneService  **\n",
    "     \n",
    "     ** OnlineBackup  **\n",
    "     \n",
    "     ** TechSupport  **\n",
    "     \n",
    "     ** StreamingTV  **\n",
    "     \n",
    "     ** Contract  **\n",
    "     \n",
    "     ** PaperlessBilling  **\n",
    "     \n",
    "     ** PaymentMethod  **\n",
    "     \n",
    "     ** MonthlyCharges  **\n",
    "     \n",
    "     ** Churn  **\n",
    "\n",
    "The data set consists of complete educational details of students right from their schooling to MBA and previous work experience.\n",
    "#### Admission dataset : \n",
    "    SlNo \n",
    "    \n",
    "    Gender\n",
    "    \n",
    "    Percent_SSC\n",
    "    \n",
    "    Board_SSC\n",
    "    \n",
    "    Percent_HSC\n",
    "    \n",
    "    Board_HSC \n",
    "    \n",
    "    Stream_HSC \n",
    "    \n",
    "    Percent_Degree \n",
    "    \n",
    "    Course_Degree\n",
    "    \n",
    "    Experience_Yrs\n",
    "    \n",
    "    Entrance_Test\n",
    "    \n",
    "    Percentile_ET\n",
    "    \n",
    "    Percent_MBA\n",
    "    \n",
    "    Specialization_MBA\n",
    "    \n",
    "    Marks_Communication\n",
    "    \n",
    "    Marks_Projectwork\n",
    "    \n",
    "    Marks_BOCA\n",
    "    \n",
    "    Placement\n",
    "    \n",
    "    Salary\n"
   ]
  },
  {
   "cell_type": "code",
   "execution_count": null,
   "metadata": {
    "colab": {},
    "colab_type": "code",
    "id": "2Z7WxyTnTo3m"
   },
   "outputs": [],
   "source": [
    "#Kindly change the below cells from markdown to code and execute it "
   ]
  },
  {
   "cell_type": "code",
   "execution_count": 1,
   "metadata": {
    "colab_type": "text",
    "id": "wG3oVuv1TxLj"
   },
   "outputs": [
    {
     "data": {
      "text/html": [
       "<div>\n",
       "<style scoped>\n",
       "    .dataframe tbody tr th:only-of-type {\n",
       "        vertical-align: middle;\n",
       "    }\n",
       "\n",
       "    .dataframe tbody tr th {\n",
       "        vertical-align: top;\n",
       "    }\n",
       "\n",
       "    .dataframe thead th {\n",
       "        text-align: right;\n",
       "    }\n",
       "</style>\n",
       "<table border=\"1\" class=\"dataframe\">\n",
       "  <thead>\n",
       "    <tr style=\"text-align: right;\">\n",
       "      <th></th>\n",
       "      <th>SlNo</th>\n",
       "      <th>Gender</th>\n",
       "      <th>Percent_SSC</th>\n",
       "      <th>Board_SSC</th>\n",
       "      <th>Percent_HSC</th>\n",
       "      <th>Board_HSC</th>\n",
       "      <th>Stream_HSC</th>\n",
       "      <th>Percent_Degree</th>\n",
       "      <th>Course_Degree</th>\n",
       "      <th>Experience_Yrs</th>\n",
       "      <th>...</th>\n",
       "      <th>tenure</th>\n",
       "      <th>PhoneService</th>\n",
       "      <th>OnlineBackup</th>\n",
       "      <th>TechSupport</th>\n",
       "      <th>StreamingTV</th>\n",
       "      <th>Contract</th>\n",
       "      <th>PaperlessBilling</th>\n",
       "      <th>PaymentMethod</th>\n",
       "      <th>MonthlyCharges</th>\n",
       "      <th>Churn</th>\n",
       "    </tr>\n",
       "  </thead>\n",
       "  <tbody>\n",
       "    <tr>\n",
       "      <th>0</th>\n",
       "      <td>1.0</td>\n",
       "      <td>M</td>\n",
       "      <td>62.00</td>\n",
       "      <td>Others</td>\n",
       "      <td>88.00</td>\n",
       "      <td>Others</td>\n",
       "      <td>Commerce</td>\n",
       "      <td>52.00</td>\n",
       "      <td>Science</td>\n",
       "      <td>0.0</td>\n",
       "      <td>...</td>\n",
       "      <td>1</td>\n",
       "      <td>No</td>\n",
       "      <td>Yes</td>\n",
       "      <td>No</td>\n",
       "      <td>No</td>\n",
       "      <td>Month-to-month</td>\n",
       "      <td>Yes</td>\n",
       "      <td>Electronic check</td>\n",
       "      <td>29.85</td>\n",
       "      <td>No</td>\n",
       "    </tr>\n",
       "    <tr>\n",
       "      <th>1</th>\n",
       "      <td>2.0</td>\n",
       "      <td>M</td>\n",
       "      <td>76.33</td>\n",
       "      <td>ICSE</td>\n",
       "      <td>75.33</td>\n",
       "      <td>Others</td>\n",
       "      <td>Science</td>\n",
       "      <td>75.48</td>\n",
       "      <td>Computer Applications</td>\n",
       "      <td>1.0</td>\n",
       "      <td>...</td>\n",
       "      <td>34</td>\n",
       "      <td>Yes</td>\n",
       "      <td>No</td>\n",
       "      <td>No</td>\n",
       "      <td>No</td>\n",
       "      <td>One year</td>\n",
       "      <td>No</td>\n",
       "      <td>Mailed check</td>\n",
       "      <td>56.95</td>\n",
       "      <td>No</td>\n",
       "    </tr>\n",
       "    <tr>\n",
       "      <th>2</th>\n",
       "      <td>3.0</td>\n",
       "      <td>M</td>\n",
       "      <td>72.00</td>\n",
       "      <td>Others</td>\n",
       "      <td>78.00</td>\n",
       "      <td>Others</td>\n",
       "      <td>Commerce</td>\n",
       "      <td>66.63</td>\n",
       "      <td>Engineering</td>\n",
       "      <td>0.0</td>\n",
       "      <td>...</td>\n",
       "      <td>2</td>\n",
       "      <td>Yes</td>\n",
       "      <td>Yes</td>\n",
       "      <td>No</td>\n",
       "      <td>No</td>\n",
       "      <td>Month-to-month</td>\n",
       "      <td>Yes</td>\n",
       "      <td>Mailed check</td>\n",
       "      <td>53.85</td>\n",
       "      <td>Yes</td>\n",
       "    </tr>\n",
       "    <tr>\n",
       "      <th>3</th>\n",
       "      <td>4.0</td>\n",
       "      <td>M</td>\n",
       "      <td>60.00</td>\n",
       "      <td>CBSE</td>\n",
       "      <td>63.00</td>\n",
       "      <td>CBSE</td>\n",
       "      <td>Arts</td>\n",
       "      <td>58.00</td>\n",
       "      <td>Management</td>\n",
       "      <td>0.0</td>\n",
       "      <td>...</td>\n",
       "      <td>45</td>\n",
       "      <td>No</td>\n",
       "      <td>No</td>\n",
       "      <td>Yes</td>\n",
       "      <td>No</td>\n",
       "      <td>One year</td>\n",
       "      <td>No</td>\n",
       "      <td>Bank transfer (automatic)</td>\n",
       "      <td>42.30</td>\n",
       "      <td>No</td>\n",
       "    </tr>\n",
       "    <tr>\n",
       "      <th>4</th>\n",
       "      <td>5.0</td>\n",
       "      <td>M</td>\n",
       "      <td>61.00</td>\n",
       "      <td>CBSE</td>\n",
       "      <td>55.00</td>\n",
       "      <td>ISC</td>\n",
       "      <td>Science</td>\n",
       "      <td>54.00</td>\n",
       "      <td>Engineering</td>\n",
       "      <td>1.0</td>\n",
       "      <td>...</td>\n",
       "      <td>2</td>\n",
       "      <td>Yes</td>\n",
       "      <td>No</td>\n",
       "      <td>No</td>\n",
       "      <td>No</td>\n",
       "      <td>Month-to-month</td>\n",
       "      <td>Yes</td>\n",
       "      <td>Electronic check</td>\n",
       "      <td>70.70</td>\n",
       "      <td>Yes</td>\n",
       "    </tr>\n",
       "  </tbody>\n",
       "</table>\n",
       "<p>5 rows × 34 columns</p>\n",
       "</div>"
      ],
      "text/plain": [
       "   SlNo Gender  Percent_SSC Board_SSC  Percent_HSC Board_HSC Stream_HSC  \\\n",
       "0   1.0      M        62.00    Others        88.00    Others   Commerce   \n",
       "1   2.0      M        76.33      ICSE        75.33    Others    Science   \n",
       "2   3.0      M        72.00    Others        78.00    Others   Commerce   \n",
       "3   4.0      M        60.00      CBSE        63.00      CBSE       Arts   \n",
       "4   5.0      M        61.00      CBSE        55.00       ISC    Science   \n",
       "\n",
       "   Percent_Degree          Course_Degree  Experience_Yrs  ... tenure  \\\n",
       "0           52.00                Science             0.0  ...      1   \n",
       "1           75.48  Computer Applications             1.0  ...     34   \n",
       "2           66.63            Engineering             0.0  ...      2   \n",
       "3           58.00             Management             0.0  ...     45   \n",
       "4           54.00            Engineering             1.0  ...      2   \n",
       "\n",
       "   PhoneService  OnlineBackup TechSupport  StreamingTV        Contract  \\\n",
       "0            No           Yes          No           No  Month-to-month   \n",
       "1           Yes            No          No           No        One year   \n",
       "2           Yes           Yes          No           No  Month-to-month   \n",
       "3            No            No         Yes           No        One year   \n",
       "4           Yes            No          No           No  Month-to-month   \n",
       "\n",
       "   PaperlessBilling              PaymentMethod  MonthlyCharges Churn  \n",
       "0               Yes           Electronic check           29.85    No  \n",
       "1                No               Mailed check           56.95    No  \n",
       "2               Yes               Mailed check           53.85   Yes  \n",
       "3                No  Bank transfer (automatic)           42.30    No  \n",
       "4               Yes           Electronic check           70.70   Yes  \n",
       "\n",
       "[5 rows x 34 columns]"
      ]
     },
     "execution_count": 1,
     "metadata": {},
     "output_type": "execute_result"
    }
   ],
   "source": [
    "import pandas as pd\n",
    "\n",
    "import csv\n",
    "\n",
    "with open(\"data_set.csv\",\"r\")as file:\n",
    "\n",
    "    reader=csv.reader(file)\n",
    "    \n",
    "df=pd.read_csv(\"data_set.csv\")\n",
    "\n",
    "df.head()\n"
   ]
  },
  {
   "cell_type": "code",
   "execution_count": 3,
   "metadata": {
    "colab": {},
    "colab_type": "code",
    "id": "CW_9zES2To3q",
    "outputId": "f542f9de-4b0a-45b2-de8c-575866a3c91b"
   },
   "outputs": [
    {
     "data": {
      "text/plain": [
       "(748, 34)"
      ]
     },
     "execution_count": 3,
     "metadata": {},
     "output_type": "execute_result"
    }
   ],
   "source": [
    "df.shape"
   ]
  },
  {
   "cell_type": "code",
   "execution_count": 4,
   "metadata": {
    "colab": {},
    "colab_type": "code",
    "id": "suIJdEfKTo3u",
    "outputId": "edd024ea-1986-4f60-e972-85c402b01337"
   },
   "outputs": [
    {
     "data": {
      "text/html": [
       "<div>\n",
       "<style scoped>\n",
       "    .dataframe tbody tr th:only-of-type {\n",
       "        vertical-align: middle;\n",
       "    }\n",
       "\n",
       "    .dataframe tbody tr th {\n",
       "        vertical-align: top;\n",
       "    }\n",
       "\n",
       "    .dataframe thead th {\n",
       "        text-align: right;\n",
       "    }\n",
       "</style>\n",
       "<table border=\"1\" class=\"dataframe\">\n",
       "  <thead>\n",
       "    <tr style=\"text-align: right;\">\n",
       "      <th></th>\n",
       "      <th>customerID</th>\n",
       "      <th>gender</th>\n",
       "      <th>SeniorCitizen</th>\n",
       "      <th>Partner</th>\n",
       "      <th>Dependents</th>\n",
       "      <th>tenure</th>\n",
       "      <th>PhoneService</th>\n",
       "      <th>OnlineBackup</th>\n",
       "      <th>TechSupport</th>\n",
       "      <th>StreamingTV</th>\n",
       "      <th>Contract</th>\n",
       "      <th>PaperlessBilling</th>\n",
       "      <th>PaymentMethod</th>\n",
       "      <th>MonthlyCharges</th>\n",
       "      <th>Churn</th>\n",
       "    </tr>\n",
       "  </thead>\n",
       "  <tbody>\n",
       "    <tr>\n",
       "      <th>0</th>\n",
       "      <td>7590-VHVEG</td>\n",
       "      <td>Female</td>\n",
       "      <td>0</td>\n",
       "      <td>Yes</td>\n",
       "      <td>No</td>\n",
       "      <td>1</td>\n",
       "      <td>No</td>\n",
       "      <td>Yes</td>\n",
       "      <td>No</td>\n",
       "      <td>No</td>\n",
       "      <td>Month-to-month</td>\n",
       "      <td>Yes</td>\n",
       "      <td>Electronic check</td>\n",
       "      <td>29.85</td>\n",
       "      <td>No</td>\n",
       "    </tr>\n",
       "    <tr>\n",
       "      <th>1</th>\n",
       "      <td>5575-GNVDE</td>\n",
       "      <td>Male</td>\n",
       "      <td>0</td>\n",
       "      <td>No</td>\n",
       "      <td>No</td>\n",
       "      <td>34</td>\n",
       "      <td>Yes</td>\n",
       "      <td>No</td>\n",
       "      <td>No</td>\n",
       "      <td>No</td>\n",
       "      <td>One year</td>\n",
       "      <td>No</td>\n",
       "      <td>Mailed check</td>\n",
       "      <td>56.95</td>\n",
       "      <td>No</td>\n",
       "    </tr>\n",
       "    <tr>\n",
       "      <th>2</th>\n",
       "      <td>3668-QPYBK</td>\n",
       "      <td>Male</td>\n",
       "      <td>0</td>\n",
       "      <td>No</td>\n",
       "      <td>No</td>\n",
       "      <td>2</td>\n",
       "      <td>Yes</td>\n",
       "      <td>Yes</td>\n",
       "      <td>No</td>\n",
       "      <td>No</td>\n",
       "      <td>Month-to-month</td>\n",
       "      <td>Yes</td>\n",
       "      <td>Mailed check</td>\n",
       "      <td>53.85</td>\n",
       "      <td>Yes</td>\n",
       "    </tr>\n",
       "    <tr>\n",
       "      <th>3</th>\n",
       "      <td>7795-CFOCW</td>\n",
       "      <td>Male</td>\n",
       "      <td>0</td>\n",
       "      <td>No</td>\n",
       "      <td>No</td>\n",
       "      <td>45</td>\n",
       "      <td>No</td>\n",
       "      <td>No</td>\n",
       "      <td>Yes</td>\n",
       "      <td>No</td>\n",
       "      <td>One year</td>\n",
       "      <td>No</td>\n",
       "      <td>Bank transfer (automatic)</td>\n",
       "      <td>42.30</td>\n",
       "      <td>No</td>\n",
       "    </tr>\n",
       "    <tr>\n",
       "      <th>4</th>\n",
       "      <td>9237-HQITU</td>\n",
       "      <td>Female</td>\n",
       "      <td>0</td>\n",
       "      <td>No</td>\n",
       "      <td>No</td>\n",
       "      <td>2</td>\n",
       "      <td>Yes</td>\n",
       "      <td>No</td>\n",
       "      <td>No</td>\n",
       "      <td>No</td>\n",
       "      <td>Month-to-month</td>\n",
       "      <td>Yes</td>\n",
       "      <td>Electronic check</td>\n",
       "      <td>70.70</td>\n",
       "      <td>Yes</td>\n",
       "    </tr>\n",
       "  </tbody>\n",
       "</table>\n",
       "</div>"
      ],
      "text/plain": [
       "   customerID  gender  SeniorCitizen Partner Dependents  tenure PhoneService  \\\n",
       "0  7590-VHVEG  Female              0     Yes         No       1           No   \n",
       "1  5575-GNVDE    Male              0      No         No      34          Yes   \n",
       "2  3668-QPYBK    Male              0      No         No       2          Yes   \n",
       "3  7795-CFOCW    Male              0      No         No      45           No   \n",
       "4  9237-HQITU  Female              0      No         No       2          Yes   \n",
       "\n",
       "  OnlineBackup TechSupport StreamingTV        Contract PaperlessBilling  \\\n",
       "0          Yes          No          No  Month-to-month              Yes   \n",
       "1           No          No          No        One year               No   \n",
       "2          Yes          No          No  Month-to-month              Yes   \n",
       "3           No         Yes          No        One year               No   \n",
       "4           No          No          No  Month-to-month              Yes   \n",
       "\n",
       "               PaymentMethod  MonthlyCharges Churn  \n",
       "0           Electronic check           29.85    No  \n",
       "1               Mailed check           56.95    No  \n",
       "2               Mailed check           53.85   Yes  \n",
       "3  Bank transfer (automatic)           42.30    No  \n",
       "4           Electronic check           70.70   Yes  "
      ]
     },
     "execution_count": 4,
     "metadata": {},
     "output_type": "execute_result"
    }
   ],
   "source": [
    "churn = df.iloc[:,19:]\n",
    "churn.head()"
   ]
  },
  {
   "cell_type": "code",
   "execution_count": 93,
   "metadata": {
    "colab": {},
    "colab_type": "code",
    "id": "3YfVEPwgTo3w",
    "outputId": "189eabc2-645c-4bfc-ec11-97a6d985ad11"
   },
   "outputs": [
    {
     "data": {
      "text/html": [
       "<div>\n",
       "<style scoped>\n",
       "    .dataframe tbody tr th:only-of-type {\n",
       "        vertical-align: middle;\n",
       "    }\n",
       "\n",
       "    .dataframe tbody tr th {\n",
       "        vertical-align: top;\n",
       "    }\n",
       "\n",
       "    .dataframe thead th {\n",
       "        text-align: right;\n",
       "    }\n",
       "</style>\n",
       "<table border=\"1\" class=\"dataframe\">\n",
       "  <thead>\n",
       "    <tr style=\"text-align: right;\">\n",
       "      <th></th>\n",
       "      <th>SlNo</th>\n",
       "      <th>Gender</th>\n",
       "      <th>Percent_SSC</th>\n",
       "      <th>Board_SSC</th>\n",
       "      <th>Percent_HSC</th>\n",
       "      <th>Board_HSC</th>\n",
       "      <th>Stream_HSC</th>\n",
       "      <th>Percent_Degree</th>\n",
       "      <th>Course_Degree</th>\n",
       "      <th>Experience_Yrs</th>\n",
       "      <th>Entrance_Test</th>\n",
       "      <th>Percentile_ET</th>\n",
       "      <th>Percent_MBA</th>\n",
       "      <th>Specialization_MBA</th>\n",
       "      <th>Marks_Communication</th>\n",
       "      <th>Marks_Projectwork</th>\n",
       "      <th>Marks_BOCA</th>\n",
       "      <th>Placement</th>\n",
       "      <th>Salary</th>\n",
       "    </tr>\n",
       "  </thead>\n",
       "  <tbody>\n",
       "    <tr>\n",
       "      <th>0</th>\n",
       "      <td>1.0</td>\n",
       "      <td>M</td>\n",
       "      <td>62.00</td>\n",
       "      <td>Others</td>\n",
       "      <td>88.00</td>\n",
       "      <td>Others</td>\n",
       "      <td>Commerce</td>\n",
       "      <td>52.00</td>\n",
       "      <td>Science</td>\n",
       "      <td>0.0</td>\n",
       "      <td>MAT</td>\n",
       "      <td>55.0</td>\n",
       "      <td>58.80</td>\n",
       "      <td>Marketing &amp; HR</td>\n",
       "      <td>50.0</td>\n",
       "      <td>65.0</td>\n",
       "      <td>74.0</td>\n",
       "      <td>Placed</td>\n",
       "      <td>270000.0</td>\n",
       "    </tr>\n",
       "    <tr>\n",
       "      <th>1</th>\n",
       "      <td>2.0</td>\n",
       "      <td>M</td>\n",
       "      <td>76.33</td>\n",
       "      <td>ICSE</td>\n",
       "      <td>75.33</td>\n",
       "      <td>Others</td>\n",
       "      <td>Science</td>\n",
       "      <td>75.48</td>\n",
       "      <td>Computer Applications</td>\n",
       "      <td>1.0</td>\n",
       "      <td>MAT</td>\n",
       "      <td>86.5</td>\n",
       "      <td>66.28</td>\n",
       "      <td>Marketing &amp; Finance</td>\n",
       "      <td>69.0</td>\n",
       "      <td>70.0</td>\n",
       "      <td>75.0</td>\n",
       "      <td>Placed</td>\n",
       "      <td>200000.0</td>\n",
       "    </tr>\n",
       "    <tr>\n",
       "      <th>2</th>\n",
       "      <td>3.0</td>\n",
       "      <td>M</td>\n",
       "      <td>72.00</td>\n",
       "      <td>Others</td>\n",
       "      <td>78.00</td>\n",
       "      <td>Others</td>\n",
       "      <td>Commerce</td>\n",
       "      <td>66.63</td>\n",
       "      <td>Engineering</td>\n",
       "      <td>0.0</td>\n",
       "      <td>NaN</td>\n",
       "      <td>0.0</td>\n",
       "      <td>52.91</td>\n",
       "      <td>Marketing &amp; Finance</td>\n",
       "      <td>50.0</td>\n",
       "      <td>61.0</td>\n",
       "      <td>59.0</td>\n",
       "      <td>Placed</td>\n",
       "      <td>240000.0</td>\n",
       "    </tr>\n",
       "    <tr>\n",
       "      <th>3</th>\n",
       "      <td>4.0</td>\n",
       "      <td>M</td>\n",
       "      <td>60.00</td>\n",
       "      <td>CBSE</td>\n",
       "      <td>63.00</td>\n",
       "      <td>CBSE</td>\n",
       "      <td>Arts</td>\n",
       "      <td>58.00</td>\n",
       "      <td>Management</td>\n",
       "      <td>0.0</td>\n",
       "      <td>MAT</td>\n",
       "      <td>75.0</td>\n",
       "      <td>57.80</td>\n",
       "      <td>Marketing &amp; Finance</td>\n",
       "      <td>54.0</td>\n",
       "      <td>66.0</td>\n",
       "      <td>62.0</td>\n",
       "      <td>Placed</td>\n",
       "      <td>250000.0</td>\n",
       "    </tr>\n",
       "    <tr>\n",
       "      <th>4</th>\n",
       "      <td>5.0</td>\n",
       "      <td>M</td>\n",
       "      <td>61.00</td>\n",
       "      <td>CBSE</td>\n",
       "      <td>55.00</td>\n",
       "      <td>ISC</td>\n",
       "      <td>Science</td>\n",
       "      <td>54.00</td>\n",
       "      <td>Engineering</td>\n",
       "      <td>1.0</td>\n",
       "      <td>MAT</td>\n",
       "      <td>66.0</td>\n",
       "      <td>59.43</td>\n",
       "      <td>Marketing &amp; HR</td>\n",
       "      <td>52.0</td>\n",
       "      <td>65.0</td>\n",
       "      <td>67.0</td>\n",
       "      <td>Placed</td>\n",
       "      <td>180000.0</td>\n",
       "    </tr>\n",
       "  </tbody>\n",
       "</table>\n",
       "</div>"
      ],
      "text/plain": [
       "   SlNo Gender  Percent_SSC Board_SSC  Percent_HSC Board_HSC Stream_HSC  \\\n",
       "0   1.0      M        62.00    Others        88.00    Others   Commerce   \n",
       "1   2.0      M        76.33      ICSE        75.33    Others    Science   \n",
       "2   3.0      M        72.00    Others        78.00    Others   Commerce   \n",
       "3   4.0      M        60.00      CBSE        63.00      CBSE       Arts   \n",
       "4   5.0      M        61.00      CBSE        55.00       ISC    Science   \n",
       "\n",
       "   Percent_Degree          Course_Degree  Experience_Yrs Entrance_Test  \\\n",
       "0           52.00                Science             0.0           MAT   \n",
       "1           75.48  Computer Applications             1.0           MAT   \n",
       "2           66.63            Engineering             0.0           NaN   \n",
       "3           58.00             Management             0.0           MAT   \n",
       "4           54.00            Engineering             1.0           MAT   \n",
       "\n",
       "   Percentile_ET  Percent_MBA   Specialization_MBA  Marks_Communication  \\\n",
       "0           55.0        58.80       Marketing & HR                 50.0   \n",
       "1           86.5        66.28  Marketing & Finance                 69.0   \n",
       "2            0.0        52.91  Marketing & Finance                 50.0   \n",
       "3           75.0        57.80  Marketing & Finance                 54.0   \n",
       "4           66.0        59.43       Marketing & HR                 52.0   \n",
       "\n",
       "   Marks_Projectwork  Marks_BOCA Placement    Salary  \n",
       "0               65.0        74.0    Placed  270000.0  \n",
       "1               70.0        75.0    Placed  200000.0  \n",
       "2               61.0        59.0    Placed  240000.0  \n",
       "3               66.0        62.0    Placed  250000.0  \n",
       "4               65.0        67.0    Placed  180000.0  "
      ]
     },
     "execution_count": 93,
     "metadata": {},
     "output_type": "execute_result"
    }
   ],
   "source": [
    "admission = df.iloc[:,:19]\n",
    "admission.head()"
   ]
  },
  {
   "cell_type": "markdown",
   "metadata": {
    "colab_type": "text",
    "id": "-1jwlj4KTo3y"
   },
   "source": [
    " _________________"
   ]
  },
  {
   "cell_type": "markdown",
   "metadata": {
    "colab_type": "text",
    "id": "43Xh7SW9To3z"
   },
   "source": [
    "# SECTION A: 5 MARKS"
   ]
  },
  {
   "cell_type": "markdown",
   "metadata": {
    "colab_type": "text",
    "id": "puMcvEAbTo3z"
   },
   "source": [
    " _________________"
   ]
  },
  {
   "cell_type": "markdown",
   "metadata": {
    "colab_type": "text",
    "id": "yCNzfOm6To30"
   },
   "source": [
    "####  1. \t How large a sample should be selected to provide a 95% confidence interval with a margin of error of 10? Assume that the population standard deviation is 40. (5MARKS)"
   ]
  },
  {
   "cell_type": "code",
   "execution_count": 8,
   "metadata": {
    "colab": {},
    "colab_type": "code",
    "id": "whDPxnw2To30"
   },
   "outputs": [
    {
     "name": "stdout",
     "output_type": "stream",
     "text": [
      "The sample should be of atleast 16.0 length\n"
     ]
    }
   ],
   "source": [
    "alpha = 0.05\n",
    "sigma = 40\n",
    "# n = ?\n",
    "standard_error = 10 \n",
    "\n",
    "# we know that standard_error = sigma / (np.sqrt(n)), we can rewrite this formula as\n",
    "n = (sigma**2) / (standard_error**2)\n",
    "print('The sample should be of atleast %2.1f length' %n)"
   ]
  },
  {
   "cell_type": "markdown",
   "metadata": {
    "colab_type": "text",
    "id": "7Ep8WDP1To32"
   },
   "source": [
    " _________________"
   ]
  },
  {
   "cell_type": "markdown",
   "metadata": {
    "colab_type": "text",
    "id": "ABvxZldqTo33"
   },
   "source": [
    "# SECTION B: 10 MARKS"
   ]
  },
  {
   "cell_type": "markdown",
   "metadata": {
    "colab_type": "text",
    "id": "i7zw9ppuTo33"
   },
   "source": [
    " _________________"
   ]
  },
  {
   "cell_type": "markdown",
   "metadata": {
    "colab_type": "text",
    "id": "ro_rMQweTo34"
   },
   "source": [
    "<span style=\"font-family: Arial; font-weight:bold;font-size:1.5em;color:#7d5b06;\">2.Read the dataset (Churn.csv) it consists of all the information regarding telecom industry for any telecom industry Churning rate of customers causes direct impact on the business so by performing the statistical analysis on the data set we need to find out on what facors the churning rate is dependent on. Perform the following tasks on the data :\n",
    "\n",
    "** With column names : **\n",
    "     \n",
    "     ** customerID  **\n",
    "     \n",
    "     ** gender  **\n",
    "     \n",
    "     ** SeniorCitizen  **\n",
    "     \n",
    "     ** Partner  **\n",
    "     \n",
    "     ** Dependents  **\n",
    "     \n",
    "     ** tenure  **\n",
    "     \n",
    "     ** PhoneService  **\n",
    "     \n",
    "     ** OnlineBackup  **\n",
    "     \n",
    "     ** TechSupport  **\n",
    "     \n",
    "     ** StreamingTV  **\n",
    "     \n",
    "     ** Contract  **\n",
    "     \n",
    "     ** PaperlessBilling  **\n",
    "     \n",
    "     ** PaymentMethod  **\n",
    "     \n",
    "     ** MonthlyCharges  **\n",
    "     \n",
    "     ** Churn  **\n",
    "\n",
    "\n",
    "A. List out the numerical and categorical features in the dataset and mention the possible statistical hypothesis test for give features in the dataset(2 marks)\n",
    "\n",
    "\n",
    "B. State the null and alternative hypothesis for any one of the test mention in the question number one(2 marks)\n",
    "\n",
    "C. Now perform any two required statistical test on the data to determine what are the significant features in the data with respect to target variable(95% C.I ) ? (4 Marks)\n",
    "\n",
    "D. Interpret the results ? (2 Marks)"
   ]
  },
  {
   "cell_type": "code",
   "execution_count": 60,
   "metadata": {
    "colab": {},
    "colab_type": "code",
    "id": "nb15ODqBTo35"
   },
   "outputs": [
    {
     "data": {
      "text/html": [
       "<div>\n",
       "<style scoped>\n",
       "    .dataframe tbody tr th:only-of-type {\n",
       "        vertical-align: middle;\n",
       "    }\n",
       "\n",
       "    .dataframe tbody tr th {\n",
       "        vertical-align: top;\n",
       "    }\n",
       "\n",
       "    .dataframe thead th {\n",
       "        text-align: right;\n",
       "    }\n",
       "</style>\n",
       "<table border=\"1\" class=\"dataframe\">\n",
       "  <thead>\n",
       "    <tr style=\"text-align: right;\">\n",
       "      <th></th>\n",
       "      <th>customerID</th>\n",
       "      <th>gender</th>\n",
       "      <th>SeniorCitizen</th>\n",
       "      <th>Partner</th>\n",
       "      <th>Dependents</th>\n",
       "      <th>tenure</th>\n",
       "      <th>PhoneService</th>\n",
       "      <th>OnlineBackup</th>\n",
       "      <th>TechSupport</th>\n",
       "      <th>StreamingTV</th>\n",
       "      <th>Contract</th>\n",
       "      <th>PaperlessBilling</th>\n",
       "      <th>PaymentMethod</th>\n",
       "      <th>MonthlyCharges</th>\n",
       "      <th>Churn</th>\n",
       "    </tr>\n",
       "  </thead>\n",
       "  <tbody>\n",
       "    <tr>\n",
       "      <th>0</th>\n",
       "      <td>7590-VHVEG</td>\n",
       "      <td>Female</td>\n",
       "      <td>0</td>\n",
       "      <td>Yes</td>\n",
       "      <td>No</td>\n",
       "      <td>1</td>\n",
       "      <td>No</td>\n",
       "      <td>Yes</td>\n",
       "      <td>No</td>\n",
       "      <td>No</td>\n",
       "      <td>Month-to-month</td>\n",
       "      <td>Yes</td>\n",
       "      <td>Electronic check</td>\n",
       "      <td>29.85</td>\n",
       "      <td>No</td>\n",
       "    </tr>\n",
       "    <tr>\n",
       "      <th>1</th>\n",
       "      <td>5575-GNVDE</td>\n",
       "      <td>Male</td>\n",
       "      <td>0</td>\n",
       "      <td>No</td>\n",
       "      <td>No</td>\n",
       "      <td>34</td>\n",
       "      <td>Yes</td>\n",
       "      <td>No</td>\n",
       "      <td>No</td>\n",
       "      <td>No</td>\n",
       "      <td>One year</td>\n",
       "      <td>No</td>\n",
       "      <td>Mailed check</td>\n",
       "      <td>56.95</td>\n",
       "      <td>No</td>\n",
       "    </tr>\n",
       "    <tr>\n",
       "      <th>2</th>\n",
       "      <td>3668-QPYBK</td>\n",
       "      <td>Male</td>\n",
       "      <td>0</td>\n",
       "      <td>No</td>\n",
       "      <td>No</td>\n",
       "      <td>2</td>\n",
       "      <td>Yes</td>\n",
       "      <td>Yes</td>\n",
       "      <td>No</td>\n",
       "      <td>No</td>\n",
       "      <td>Month-to-month</td>\n",
       "      <td>Yes</td>\n",
       "      <td>Mailed check</td>\n",
       "      <td>53.85</td>\n",
       "      <td>Yes</td>\n",
       "    </tr>\n",
       "    <tr>\n",
       "      <th>3</th>\n",
       "      <td>7795-CFOCW</td>\n",
       "      <td>Male</td>\n",
       "      <td>0</td>\n",
       "      <td>No</td>\n",
       "      <td>No</td>\n",
       "      <td>45</td>\n",
       "      <td>No</td>\n",
       "      <td>No</td>\n",
       "      <td>Yes</td>\n",
       "      <td>No</td>\n",
       "      <td>One year</td>\n",
       "      <td>No</td>\n",
       "      <td>Bank transfer (automatic)</td>\n",
       "      <td>42.30</td>\n",
       "      <td>No</td>\n",
       "    </tr>\n",
       "    <tr>\n",
       "      <th>4</th>\n",
       "      <td>9237-HQITU</td>\n",
       "      <td>Female</td>\n",
       "      <td>0</td>\n",
       "      <td>No</td>\n",
       "      <td>No</td>\n",
       "      <td>2</td>\n",
       "      <td>Yes</td>\n",
       "      <td>No</td>\n",
       "      <td>No</td>\n",
       "      <td>No</td>\n",
       "      <td>Month-to-month</td>\n",
       "      <td>Yes</td>\n",
       "      <td>Electronic check</td>\n",
       "      <td>70.70</td>\n",
       "      <td>Yes</td>\n",
       "    </tr>\n",
       "  </tbody>\n",
       "</table>\n",
       "</div>"
      ],
      "text/plain": [
       "   customerID  gender  SeniorCitizen Partner Dependents  tenure PhoneService  \\\n",
       "0  7590-VHVEG  Female              0     Yes         No       1           No   \n",
       "1  5575-GNVDE    Male              0      No         No      34          Yes   \n",
       "2  3668-QPYBK    Male              0      No         No       2          Yes   \n",
       "3  7795-CFOCW    Male              0      No         No      45           No   \n",
       "4  9237-HQITU  Female              0      No         No       2          Yes   \n",
       "\n",
       "  OnlineBackup TechSupport StreamingTV        Contract PaperlessBilling  \\\n",
       "0          Yes          No          No  Month-to-month              Yes   \n",
       "1           No          No          No        One year               No   \n",
       "2          Yes          No          No  Month-to-month              Yes   \n",
       "3           No         Yes          No        One year               No   \n",
       "4           No          No          No  Month-to-month              Yes   \n",
       "\n",
       "               PaymentMethod  MonthlyCharges Churn  \n",
       "0           Electronic check           29.85    No  \n",
       "1               Mailed check           56.95    No  \n",
       "2               Mailed check           53.85   Yes  \n",
       "3  Bank transfer (automatic)           42.30    No  \n",
       "4           Electronic check           70.70   Yes  "
      ]
     },
     "execution_count": 60,
     "metadata": {},
     "output_type": "execute_result"
    }
   ],
   "source": [
    "import numpy as np\n",
    "import pandas as pd\n",
    "import matplotlib.pyplot as plt\n",
    "import seaborn as sns\n",
    "import scipy.stats as stats\n",
    "\n",
    "churn.head()"
   ]
  },
  {
   "cell_type": "code",
   "execution_count": 19,
   "metadata": {},
   "outputs": [
    {
     "name": "stdout",
     "output_type": "stream",
     "text": [
      "<class 'pandas.core.frame.DataFrame'>\n",
      "RangeIndex: 748 entries, 0 to 747\n",
      "Data columns (total 15 columns):\n",
      "customerID          748 non-null object\n",
      "gender              748 non-null object\n",
      "SeniorCitizen       748 non-null int64\n",
      "Partner             748 non-null object\n",
      "Dependents          748 non-null object\n",
      "tenure              748 non-null int64\n",
      "PhoneService        748 non-null object\n",
      "OnlineBackup        748 non-null object\n",
      "TechSupport         748 non-null object\n",
      "StreamingTV         748 non-null object\n",
      "Contract            748 non-null object\n",
      "PaperlessBilling    748 non-null object\n",
      "PaymentMethod       748 non-null object\n",
      "MonthlyCharges      748 non-null float64\n",
      "Churn               748 non-null object\n",
      "dtypes: float64(1), int64(2), object(12)\n",
      "memory usage: 87.7+ KB\n"
     ]
    }
   ],
   "source": [
    "churn.info()"
   ]
  },
  {
   "cell_type": "markdown",
   "metadata": {},
   "source": [
    "It is observed from the churn dataset that there are 15 columns in total. Out of which 12 are categorical features and 3 are numerical features."
   ]
  },
  {
   "cell_type": "code",
   "execution_count": 20,
   "metadata": {},
   "outputs": [
    {
     "data": {
      "text/plain": [
       "No     564\n",
       "Yes    184\n",
       "Name: Churn, dtype: int64"
      ]
     },
     "execution_count": 20,
     "metadata": {},
     "output_type": "execute_result"
    }
   ],
   "source": [
    "churn['Churn'].value_counts()"
   ]
  },
  {
   "cell_type": "markdown",
   "metadata": {},
   "source": [
    "A. List out the numerical and categorical features in the dataset and mention the possible statistical hypothesis test for give features in the dataset ?\n",
    "\n",
    "Types of Hypothesis testing for features of churn:-\n",
    "\n",
    "For numerical column tenure, we go for two sample t test.\n",
    "Also similarly for MonthlyCharges feature we go for two sample t test.\n",
    "\n",
    "For categorical features, \n",
    "there are multiple categorical features, so we categorise them into two class categorical features and more than two class categorical features.\n",
    "\n",
    "\n",
    "The features that comes under two class categorical features are,\n",
    "gender, Partner, Dependents, PhoneService and PaperlessBilling. These features have only 2 classes of values.\n",
    "\n",
    "The features that comes under more than two class categorical features are\n",
    "OnlineBackup,TechSupport, StreamingTV, Contract and PaymentMethod(4). They have more than 2 classes of values."
   ]
  },
  {
   "cell_type": "markdown",
   "metadata": {},
   "source": [
    "B. State the null and alternative hypothesis for any one of the test mention in the question number one ?"
   ]
  },
  {
   "cell_type": "markdown",
   "metadata": {},
   "source": [
    "Let us we are checking the impact of Montly Charges on 'Churn'\n",
    "\n",
    "Our Hypothesis is that,\n",
    "\n",
    "Ho (NULL hypothesis) : Mean of MonthlyCharges of churned customer is equal to the mean of MonthlyCharges of existing                              customer. \n",
    "\n",
    "                       Mu(churn) = Mu(retention)\n",
    "        \n",
    "Ha (Alternate hypothesis): Mean of MonthlyCharges of churned customer is not equal to the mean of MonthlyCharges of                                    existing customer. \n",
    "\n",
    "                           Mu(churn) != Mu(retention)"
   ]
  },
  {
   "cell_type": "markdown",
   "metadata": {},
   "source": [
    "C. Now perform any two required statistical test on the data to determine what are the significant features in the data with respect to target variable(95% C.I ) ?"
   ]
  },
  {
   "cell_type": "code",
   "execution_count": 54,
   "metadata": {},
   "outputs": [
    {
     "data": {
      "text/html": [
       "<div>\n",
       "<style scoped>\n",
       "    .dataframe tbody tr th:only-of-type {\n",
       "        vertical-align: middle;\n",
       "    }\n",
       "\n",
       "    .dataframe tbody tr th {\n",
       "        vertical-align: top;\n",
       "    }\n",
       "\n",
       "    .dataframe thead th {\n",
       "        text-align: right;\n",
       "    }\n",
       "</style>\n",
       "<table border=\"1\" class=\"dataframe\">\n",
       "  <thead>\n",
       "    <tr style=\"text-align: right;\">\n",
       "      <th></th>\n",
       "      <th>SeniorCitizen</th>\n",
       "      <th>tenure</th>\n",
       "      <th>MonthlyCharges</th>\n",
       "    </tr>\n",
       "  </thead>\n",
       "  <tbody>\n",
       "    <tr>\n",
       "      <th>0</th>\n",
       "      <td>0</td>\n",
       "      <td>1</td>\n",
       "      <td>29.85</td>\n",
       "    </tr>\n",
       "    <tr>\n",
       "      <th>1</th>\n",
       "      <td>0</td>\n",
       "      <td>34</td>\n",
       "      <td>56.95</td>\n",
       "    </tr>\n",
       "    <tr>\n",
       "      <th>2</th>\n",
       "      <td>0</td>\n",
       "      <td>2</td>\n",
       "      <td>53.85</td>\n",
       "    </tr>\n",
       "    <tr>\n",
       "      <th>3</th>\n",
       "      <td>0</td>\n",
       "      <td>45</td>\n",
       "      <td>42.30</td>\n",
       "    </tr>\n",
       "    <tr>\n",
       "      <th>4</th>\n",
       "      <td>0</td>\n",
       "      <td>2</td>\n",
       "      <td>70.70</td>\n",
       "    </tr>\n",
       "  </tbody>\n",
       "</table>\n",
       "</div>"
      ],
      "text/plain": [
       "   SeniorCitizen  tenure  MonthlyCharges\n",
       "0              0       1           29.85\n",
       "1              0      34           56.95\n",
       "2              0       2           53.85\n",
       "3              0      45           42.30\n",
       "4              0       2           70.70"
      ]
     },
     "execution_count": 54,
     "metadata": {},
     "output_type": "execute_result"
    }
   ],
   "source": [
    "num_churn = churn.select_dtypes(exclude='object')\n",
    "num_churn.head()"
   ]
  },
  {
   "cell_type": "code",
   "execution_count": 53,
   "metadata": {},
   "outputs": [
    {
     "data": {
      "text/html": [
       "<div>\n",
       "<style scoped>\n",
       "    .dataframe tbody tr th:only-of-type {\n",
       "        vertical-align: middle;\n",
       "    }\n",
       "\n",
       "    .dataframe tbody tr th {\n",
       "        vertical-align: top;\n",
       "    }\n",
       "\n",
       "    .dataframe thead th {\n",
       "        text-align: right;\n",
       "    }\n",
       "</style>\n",
       "<table border=\"1\" class=\"dataframe\">\n",
       "  <thead>\n",
       "    <tr style=\"text-align: right;\">\n",
       "      <th></th>\n",
       "      <th>customerID</th>\n",
       "      <th>gender</th>\n",
       "      <th>Partner</th>\n",
       "      <th>Dependents</th>\n",
       "      <th>PhoneService</th>\n",
       "      <th>OnlineBackup</th>\n",
       "      <th>TechSupport</th>\n",
       "      <th>StreamingTV</th>\n",
       "      <th>Contract</th>\n",
       "      <th>PaperlessBilling</th>\n",
       "      <th>PaymentMethod</th>\n",
       "      <th>Churn</th>\n",
       "    </tr>\n",
       "  </thead>\n",
       "  <tbody>\n",
       "    <tr>\n",
       "      <th>0</th>\n",
       "      <td>7590-VHVEG</td>\n",
       "      <td>Female</td>\n",
       "      <td>Yes</td>\n",
       "      <td>No</td>\n",
       "      <td>No</td>\n",
       "      <td>Yes</td>\n",
       "      <td>No</td>\n",
       "      <td>No</td>\n",
       "      <td>Month-to-month</td>\n",
       "      <td>Yes</td>\n",
       "      <td>Electronic check</td>\n",
       "      <td>No</td>\n",
       "    </tr>\n",
       "    <tr>\n",
       "      <th>1</th>\n",
       "      <td>5575-GNVDE</td>\n",
       "      <td>Male</td>\n",
       "      <td>No</td>\n",
       "      <td>No</td>\n",
       "      <td>Yes</td>\n",
       "      <td>No</td>\n",
       "      <td>No</td>\n",
       "      <td>No</td>\n",
       "      <td>One year</td>\n",
       "      <td>No</td>\n",
       "      <td>Mailed check</td>\n",
       "      <td>No</td>\n",
       "    </tr>\n",
       "    <tr>\n",
       "      <th>2</th>\n",
       "      <td>3668-QPYBK</td>\n",
       "      <td>Male</td>\n",
       "      <td>No</td>\n",
       "      <td>No</td>\n",
       "      <td>Yes</td>\n",
       "      <td>Yes</td>\n",
       "      <td>No</td>\n",
       "      <td>No</td>\n",
       "      <td>Month-to-month</td>\n",
       "      <td>Yes</td>\n",
       "      <td>Mailed check</td>\n",
       "      <td>Yes</td>\n",
       "    </tr>\n",
       "    <tr>\n",
       "      <th>3</th>\n",
       "      <td>7795-CFOCW</td>\n",
       "      <td>Male</td>\n",
       "      <td>No</td>\n",
       "      <td>No</td>\n",
       "      <td>No</td>\n",
       "      <td>No</td>\n",
       "      <td>Yes</td>\n",
       "      <td>No</td>\n",
       "      <td>One year</td>\n",
       "      <td>No</td>\n",
       "      <td>Bank transfer (automatic)</td>\n",
       "      <td>No</td>\n",
       "    </tr>\n",
       "    <tr>\n",
       "      <th>4</th>\n",
       "      <td>9237-HQITU</td>\n",
       "      <td>Female</td>\n",
       "      <td>No</td>\n",
       "      <td>No</td>\n",
       "      <td>Yes</td>\n",
       "      <td>No</td>\n",
       "      <td>No</td>\n",
       "      <td>No</td>\n",
       "      <td>Month-to-month</td>\n",
       "      <td>Yes</td>\n",
       "      <td>Electronic check</td>\n",
       "      <td>Yes</td>\n",
       "    </tr>\n",
       "  </tbody>\n",
       "</table>\n",
       "</div>"
      ],
      "text/plain": [
       "   customerID  gender Partner Dependents PhoneService OnlineBackup  \\\n",
       "0  7590-VHVEG  Female     Yes         No           No          Yes   \n",
       "1  5575-GNVDE    Male      No         No          Yes           No   \n",
       "2  3668-QPYBK    Male      No         No          Yes          Yes   \n",
       "3  7795-CFOCW    Male      No         No           No           No   \n",
       "4  9237-HQITU  Female      No         No          Yes           No   \n",
       "\n",
       "  TechSupport StreamingTV        Contract PaperlessBilling  \\\n",
       "0          No          No  Month-to-month              Yes   \n",
       "1          No          No        One year               No   \n",
       "2          No          No  Month-to-month              Yes   \n",
       "3         Yes          No        One year               No   \n",
       "4          No          No  Month-to-month              Yes   \n",
       "\n",
       "               PaymentMethod Churn  \n",
       "0           Electronic check    No  \n",
       "1               Mailed check    No  \n",
       "2               Mailed check   Yes  \n",
       "3  Bank transfer (automatic)    No  \n",
       "4           Electronic check   Yes  "
      ]
     },
     "execution_count": 53,
     "metadata": {},
     "output_type": "execute_result"
    }
   ],
   "source": [
    "catg_churn = churn.select_dtypes(include='object')\n",
    "catg_churn.head()"
   ]
  },
  {
   "cell_type": "code",
   "execution_count": 58,
   "metadata": {},
   "outputs": [],
   "source": [
    "# we perform statistical test on MonthlyCharges wrt to churn\n",
    "\n",
    "MonthlyCharges_churn_yes = churn[churn['Churn']=='Yes']['MonthlyCharges']\n",
    "MonthlyCharges_churn_no = churn[churn['Churn']=='No']['MonthlyCharges']\n"
   ]
  },
  {
   "cell_type": "markdown",
   "metadata": {},
   "source": [
    "Our hypothesis is that:-\n",
    "\n",
    "Ho : Mean of monthlycharges of churned customers = Mean of monthly charges of unchurned cutomers.\n",
    "\n",
    "Ha : Mean of monthlycharges of churned customers != Mean of monthly charges of unchurned cutomers. "
   ]
  },
  {
   "cell_type": "code",
   "execution_count": 62,
   "metadata": {},
   "outputs": [
    {
     "name": "stdout",
     "output_type": "stream",
     "text": [
      "The test statistics is 3.0803835 and p_value is 0.0021433\n"
     ]
    }
   ],
   "source": [
    "# We consider that both the groups are normal. Hence we further use, independent parametric t test.\n",
    "\n",
    "tstat, p_val = stats.ttest_ind(MonthlyCharges_churn_yes, MonthlyCharges_churn_no)\n",
    "print('The test statistics is %1.7f and p_value is %1.7f' %(tstat,p_val))"
   ]
  },
  {
   "cell_type": "markdown",
   "metadata": {},
   "source": [
    "It is evident from the statistics test that p_value is less than 0.05. Hence we reject our NULL hypothesis. We can conclude that the mean of monthlycharges of churned customers is equal to the mean of monthly charges of unchurned customers."
   ]
  },
  {
   "cell_type": "code",
   "execution_count": 69,
   "metadata": {},
   "outputs": [
    {
     "data": {
      "image/png": "[encoded data removed]",
      "text/plain": [
       "<Figure size 720x360 with 1 Axes>"
      ]
     },
     "metadata": {
      "needs_background": "light"
     },
     "output_type": "display_data"
    }
   ],
   "source": [
    "# Post_HOC analysis......\n",
    "\n",
    "plt.figure(figsize=(10,5))\n",
    "sns.kdeplot(MonthlyCharges_churn_yes, color='blue', label='MonthlyCharges_churn_yes')\n",
    "plt.axvline(np.mean(MonthlyCharges_churn_yes), color='blue')\n",
    "sns.kdeplot(MonthlyCharges_churn_no, color='red', label='MonthlyCharges_churn_no')\n",
    "plt.axvline(np.mean(MonthlyCharges_churn_no), color='red')\n",
    "plt.legend()\n",
    "plt.show()"
   ]
  },
  {
   "cell_type": "markdown",
   "metadata": {},
   "source": [
    "It is inferred from the plot that the mean of montly charges of customers who churned is higher compared to the mean of montly charges of existing customers."
   ]
  },
  {
   "cell_type": "code",
   "execution_count": 78,
   "metadata": {},
   "outputs": [
    {
     "data": {
      "text/html": [
       "<div>\n",
       "<style scoped>\n",
       "    .dataframe tbody tr th:only-of-type {\n",
       "        vertical-align: middle;\n",
       "    }\n",
       "\n",
       "    .dataframe tbody tr th {\n",
       "        vertical-align: top;\n",
       "    }\n",
       "\n",
       "    .dataframe thead th {\n",
       "        text-align: right;\n",
       "    }\n",
       "</style>\n",
       "<table border=\"1\" class=\"dataframe\">\n",
       "  <thead>\n",
       "    <tr style=\"text-align: right;\">\n",
       "      <th>Churn</th>\n",
       "      <th>No</th>\n",
       "      <th>Yes</th>\n",
       "    </tr>\n",
       "    <tr>\n",
       "      <th>gender</th>\n",
       "      <th></th>\n",
       "      <th></th>\n",
       "    </tr>\n",
       "  </thead>\n",
       "  <tbody>\n",
       "    <tr>\n",
       "      <th>Female</th>\n",
       "      <td>268</td>\n",
       "      <td>97</td>\n",
       "    </tr>\n",
       "    <tr>\n",
       "      <th>Male</th>\n",
       "      <td>296</td>\n",
       "      <td>87</td>\n",
       "    </tr>\n",
       "  </tbody>\n",
       "</table>\n",
       "</div>"
      ],
      "text/plain": [
       "Churn    No  Yes\n",
       "gender          \n",
       "Female  268   97\n",
       "Male    296   87"
      ]
     },
     "execution_count": 78,
     "metadata": {},
     "output_type": "execute_result"
    }
   ],
   "source": [
    "# Our next features to be tested against the target variable is 'gender'.\n",
    "\n",
    "# Ho : The proportion of Male who churned is equal to the proportion of female who churned.\n",
    "# Ha : The proportion of Male who churned is not equal to the proportion of female who churned.\n",
    "\n",
    "ct = pd.crosstab(churn.gender, churn.Churn)\n",
    "ct"
   ]
  },
  {
   "cell_type": "code",
   "execution_count": 89,
   "metadata": {},
   "outputs": [
    {
     "name": "stdout",
     "output_type": "stream",
     "text": [
      "The value of chi_square is 1.3003685, pvalue is 0.2541459, degree of freedom is 1 \n"
     ]
    }
   ],
   "source": [
    "from scipy.stats import chi2_contingency\n",
    "\n",
    "chi_square, p_value, ddof, expected_values = chi2_contingency(ct)\n",
    "\n",
    "print('The value of chi_square is %2.7f, pvalue is %2.7f, degree of freedom is %d ' %(chi_square,p_value,ddof))"
   ]
  },
  {
   "cell_type": "markdown",
   "metadata": {},
   "source": [
    "It is observed that the value of P-value is greater than 0.05. Hence we can conclude that the NULL hypothesis holds good.\n",
    "\n",
    "The proportion of Male who churned is equal to the proportion of female who churned."
   ]
  },
  {
   "cell_type": "markdown",
   "metadata": {
    "colab_type": "text",
    "id": "YJ6gdU__To37"
   },
   "source": [
    " _________________"
   ]
  },
  {
   "cell_type": "markdown",
   "metadata": {
    "colab_type": "text",
    "id": "dtdNLdIBTo38"
   },
   "source": [
    "# SECTION C: 15 MARKS"
   ]
  },
  {
   "cell_type": "markdown",
   "metadata": {
    "colab_type": "text",
    "id": "wXunfZzuTo38"
   },
   "source": [
    " _________________"
   ]
  },
  {
   "cell_type": "markdown",
   "metadata": {
    "colab_type": "text",
    "id": "vW6RC-yGTo38"
   },
   "source": [
    "#### 3. Read the Addmission data. The data set consists of complete educational details of students right from their schooling to MBA and previous work experience. Salary is the target variable in the data. Perform the following tasks on the data :\n",
    "\n",
    "    SlNo \n",
    "    \n",
    "    Gender\n",
    "    \n",
    "    Percent_SSC\n",
    "    \n",
    "    Board_SSC\n",
    "    \n",
    "    Percent_HSC\n",
    "    \n",
    "    Board_HSC \n",
    "    \n",
    "    Stream_HSC \n",
    "    \n",
    "    Percent_Degree \n",
    "    \n",
    "    Course_Degree\n",
    "    \n",
    "    Experience_Yrs\n",
    "    \n",
    "    Entrance_Test\n",
    "    \n",
    "    Percentile_ET\n",
    "    \n",
    "    Percent_MBA\n",
    "    \n",
    "    Specialization_MBA\n",
    "    \n",
    "    Marks_Communication\n",
    "    \n",
    "    Marks_Projectwork\n",
    "    \n",
    "    Marks_BOCA\n",
    "    \n",
    "    Placement\n",
    "    \n",
    "    Salary\n",
    "\n",
    "\n",
    "i. List out the features( numerical and categorical)  and specify what type of  tests can be performed for these features and why ?  (3 Marks )\n",
    "\n",
    "ii. Frame Null and Alternate Hypothesis for the tests mentioned in question .no.1( 3 marks )\n",
    "\n",
    "iii. Now perform required any four statistical tests on the data to determine what are the significant features in the data with respect to target variable (95%  C.I ).      (6 Marks)\n",
    "\n",
    "iv. Interpret the above test results. (3 Marks)"
   ]
  },
  {
   "cell_type": "code",
   "execution_count": 94,
   "metadata": {},
   "outputs": [
    {
     "data": {
      "text/html": [
       "<div>\n",
       "<style scoped>\n",
       "    .dataframe tbody tr th:only-of-type {\n",
       "        vertical-align: middle;\n",
       "    }\n",
       "\n",
       "    .dataframe tbody tr th {\n",
       "        vertical-align: top;\n",
       "    }\n",
       "\n",
       "    .dataframe thead th {\n",
       "        text-align: right;\n",
       "    }\n",
       "</style>\n",
       "<table border=\"1\" class=\"dataframe\">\n",
       "  <thead>\n",
       "    <tr style=\"text-align: right;\">\n",
       "      <th></th>\n",
       "      <th>SlNo</th>\n",
       "      <th>Gender</th>\n",
       "      <th>Percent_SSC</th>\n",
       "      <th>Board_SSC</th>\n",
       "      <th>Percent_HSC</th>\n",
       "      <th>Board_HSC</th>\n",
       "      <th>Stream_HSC</th>\n",
       "      <th>Percent_Degree</th>\n",
       "      <th>Course_Degree</th>\n",
       "      <th>Experience_Yrs</th>\n",
       "      <th>Entrance_Test</th>\n",
       "      <th>Percentile_ET</th>\n",
       "      <th>Percent_MBA</th>\n",
       "      <th>Specialization_MBA</th>\n",
       "      <th>Marks_Communication</th>\n",
       "      <th>Marks_Projectwork</th>\n",
       "      <th>Marks_BOCA</th>\n",
       "      <th>Placement</th>\n",
       "      <th>Salary</th>\n",
       "    </tr>\n",
       "  </thead>\n",
       "  <tbody>\n",
       "    <tr>\n",
       "      <th>0</th>\n",
       "      <td>1.0</td>\n",
       "      <td>M</td>\n",
       "      <td>62.00</td>\n",
       "      <td>Others</td>\n",
       "      <td>88.00</td>\n",
       "      <td>Others</td>\n",
       "      <td>Commerce</td>\n",
       "      <td>52.00</td>\n",
       "      <td>Science</td>\n",
       "      <td>0.0</td>\n",
       "      <td>MAT</td>\n",
       "      <td>55.0</td>\n",
       "      <td>58.80</td>\n",
       "      <td>Marketing &amp; HR</td>\n",
       "      <td>50.0</td>\n",
       "      <td>65.0</td>\n",
       "      <td>74.0</td>\n",
       "      <td>Placed</td>\n",
       "      <td>270000.0</td>\n",
       "    </tr>\n",
       "    <tr>\n",
       "      <th>1</th>\n",
       "      <td>2.0</td>\n",
       "      <td>M</td>\n",
       "      <td>76.33</td>\n",
       "      <td>ICSE</td>\n",
       "      <td>75.33</td>\n",
       "      <td>Others</td>\n",
       "      <td>Science</td>\n",
       "      <td>75.48</td>\n",
       "      <td>Computer Applications</td>\n",
       "      <td>1.0</td>\n",
       "      <td>MAT</td>\n",
       "      <td>86.5</td>\n",
       "      <td>66.28</td>\n",
       "      <td>Marketing &amp; Finance</td>\n",
       "      <td>69.0</td>\n",
       "      <td>70.0</td>\n",
       "      <td>75.0</td>\n",
       "      <td>Placed</td>\n",
       "      <td>200000.0</td>\n",
       "    </tr>\n",
       "    <tr>\n",
       "      <th>2</th>\n",
       "      <td>3.0</td>\n",
       "      <td>M</td>\n",
       "      <td>72.00</td>\n",
       "      <td>Others</td>\n",
       "      <td>78.00</td>\n",
       "      <td>Others</td>\n",
       "      <td>Commerce</td>\n",
       "      <td>66.63</td>\n",
       "      <td>Engineering</td>\n",
       "      <td>0.0</td>\n",
       "      <td>NaN</td>\n",
       "      <td>0.0</td>\n",
       "      <td>52.91</td>\n",
       "      <td>Marketing &amp; Finance</td>\n",
       "      <td>50.0</td>\n",
       "      <td>61.0</td>\n",
       "      <td>59.0</td>\n",
       "      <td>Placed</td>\n",
       "      <td>240000.0</td>\n",
       "    </tr>\n",
       "    <tr>\n",
       "      <th>3</th>\n",
       "      <td>4.0</td>\n",
       "      <td>M</td>\n",
       "      <td>60.00</td>\n",
       "      <td>CBSE</td>\n",
       "      <td>63.00</td>\n",
       "      <td>CBSE</td>\n",
       "      <td>Arts</td>\n",
       "      <td>58.00</td>\n",
       "      <td>Management</td>\n",
       "      <td>0.0</td>\n",
       "      <td>MAT</td>\n",
       "      <td>75.0</td>\n",
       "      <td>57.80</td>\n",
       "      <td>Marketing &amp; Finance</td>\n",
       "      <td>54.0</td>\n",
       "      <td>66.0</td>\n",
       "      <td>62.0</td>\n",
       "      <td>Placed</td>\n",
       "      <td>250000.0</td>\n",
       "    </tr>\n",
       "    <tr>\n",
       "      <th>4</th>\n",
       "      <td>5.0</td>\n",
       "      <td>M</td>\n",
       "      <td>61.00</td>\n",
       "      <td>CBSE</td>\n",
       "      <td>55.00</td>\n",
       "      <td>ISC</td>\n",
       "      <td>Science</td>\n",
       "      <td>54.00</td>\n",
       "      <td>Engineering</td>\n",
       "      <td>1.0</td>\n",
       "      <td>MAT</td>\n",
       "      <td>66.0</td>\n",
       "      <td>59.43</td>\n",
       "      <td>Marketing &amp; HR</td>\n",
       "      <td>52.0</td>\n",
       "      <td>65.0</td>\n",
       "      <td>67.0</td>\n",
       "      <td>Placed</td>\n",
       "      <td>180000.0</td>\n",
       "    </tr>\n",
       "  </tbody>\n",
       "</table>\n",
       "</div>"
      ],
      "text/plain": [
       "   SlNo Gender  Percent_SSC Board_SSC  Percent_HSC Board_HSC Stream_HSC  \\\n",
       "0   1.0      M        62.00    Others        88.00    Others   Commerce   \n",
       "1   2.0      M        76.33      ICSE        75.33    Others    Science   \n",
       "2   3.0      M        72.00    Others        78.00    Others   Commerce   \n",
       "3   4.0      M        60.00      CBSE        63.00      CBSE       Arts   \n",
       "4   5.0      M        61.00      CBSE        55.00       ISC    Science   \n",
       "\n",
       "   Percent_Degree          Course_Degree  Experience_Yrs Entrance_Test  \\\n",
       "0           52.00                Science             0.0           MAT   \n",
       "1           75.48  Computer Applications             1.0           MAT   \n",
       "2           66.63            Engineering             0.0           NaN   \n",
       "3           58.00             Management             0.0           MAT   \n",
       "4           54.00            Engineering             1.0           MAT   \n",
       "\n",
       "   Percentile_ET  Percent_MBA   Specialization_MBA  Marks_Communication  \\\n",
       "0           55.0        58.80       Marketing & HR                 50.0   \n",
       "1           86.5        66.28  Marketing & Finance                 69.0   \n",
       "2            0.0        52.91  Marketing & Finance                 50.0   \n",
       "3           75.0        57.80  Marketing & Finance                 54.0   \n",
       "4           66.0        59.43       Marketing & HR                 52.0   \n",
       "\n",
       "   Marks_Projectwork  Marks_BOCA Placement    Salary  \n",
       "0               65.0        74.0    Placed  270000.0  \n",
       "1               70.0        75.0    Placed  200000.0  \n",
       "2               61.0        59.0    Placed  240000.0  \n",
       "3               66.0        62.0    Placed  250000.0  \n",
       "4               65.0        67.0    Placed  180000.0  "
      ]
     },
     "execution_count": 94,
     "metadata": {},
     "output_type": "execute_result"
    }
   ],
   "source": [
    "admission.head()"
   ]
  },
  {
   "cell_type": "markdown",
   "metadata": {
    "colab": {},
    "colab_type": "code",
    "id": "WVQquyT2To39"
   },
   "source": [
    "i. List out the features( numerical and categorical)  and specify what type of  tests can be performed for these features and why ?"
   ]
  },
  {
   "cell_type": "code",
   "execution_count": 95,
   "metadata": {},
   "outputs": [
    {
     "name": "stdout",
     "output_type": "stream",
     "text": [
      "<class 'pandas.core.frame.DataFrame'>\n",
      "RangeIndex: 748 entries, 0 to 747\n",
      "Data columns (total 19 columns):\n",
      "SlNo                   391 non-null float64\n",
      "Gender                 391 non-null object\n",
      "Percent_SSC            391 non-null float64\n",
      "Board_SSC              391 non-null object\n",
      "Percent_HSC            391 non-null float64\n",
      "Board_HSC              391 non-null object\n",
      "Stream_HSC             391 non-null object\n",
      "Percent_Degree         391 non-null float64\n",
      "Course_Degree          391 non-null object\n",
      "Experience_Yrs         391 non-null float64\n",
      "Entrance_Test          324 non-null object\n",
      "Percentile_ET          391 non-null float64\n",
      "Percent_MBA            391 non-null float64\n",
      "Specialization_MBA     391 non-null object\n",
      "Marks_Communication    391 non-null float64\n",
      "Marks_Projectwork      391 non-null float64\n",
      "Marks_BOCA             391 non-null float64\n",
      "Placement              391 non-null object\n",
      "Salary                 391 non-null float64\n",
      "dtypes: float64(11), object(8)\n",
      "memory usage: 111.1+ KB\n"
     ]
    }
   ],
   "source": [
    "admission.info()"
   ]
  },
  {
   "cell_type": "markdown",
   "metadata": {},
   "source": [
    "We have in total of 19 features. Out of which 11 are numerical and 8 are categorical features. Our target variable is Placement...\n",
    "\n",
    "In that 11, one is serial_id which can be ignored since it doesn't have any effect on our target variable.\n",
    "\n",
    "For all percent and marks numerical columns we can go for two sample t test. Since they will be groupped against Placement features which has only two features.\n",
    "We have Experience_Yrs feature which has four class of values, for this we can go for annova test.\n",
    "\n",
    "In categorical features, for all the board features( which has more than two class) we go for chi2_contigency statistics test.\n",
    "\n",
    "For gender categorical feature, which has only two class, we go for chisquare statistical analysis."
   ]
  },
  {
   "cell_type": "code",
   "execution_count": 108,
   "metadata": {},
   "outputs": [
    {
     "data": {
      "text/plain": [
       "Placed        312\n",
       "Not Placed     79\n",
       "Name: Placement, dtype: int64"
      ]
     },
     "execution_count": 108,
     "metadata": {},
     "output_type": "execute_result"
    }
   ],
   "source": [
    "admission['Placement'].value_counts()"
   ]
  },
  {
   "cell_type": "code",
   "execution_count": 109,
   "metadata": {
    "scrolled": true
   },
   "outputs": [
    {
     "data": {
      "text/plain": [
       "0.0    238\n",
       "1.0    123\n",
       "2.0     26\n",
       "3.0      4\n",
       "Name: Experience_Yrs, dtype: int64"
      ]
     },
     "execution_count": 109,
     "metadata": {},
     "output_type": "execute_result"
    }
   ],
   "source": [
    "admission['Experience_Yrs'].value_counts()"
   ]
  },
  {
   "cell_type": "markdown",
   "metadata": {},
   "source": [
    "ii. Frame Null and Alternate Hypothesis for the tests mentioned in question .no.1"
   ]
  },
  {
   "cell_type": "markdown",
   "metadata": {},
   "source": [
    "Lets us see whether 'Percent_SSC' has any significcant effeect on our target variable.\n",
    "\n",
    "Hypothesis statement wil be:-\n",
    "\n",
    "Ho (NULL hypothesis) : Mean of Percent_SSC of Placed students is equal to the mean of Percent_SSC of unplaced students.\n",
    "    \n",
    "Ha (Alternate hypothesis) : Mean of Percent_SSC of Placed students is not equal to the mean of Percent_SSC of unplaced students."
   ]
  },
  {
   "cell_type": "markdown",
   "metadata": {},
   "source": [
    "iii. Now perform required any four statistical tests on the data to determine what are the significant features in the data with respect to target variable (95%  C.I )."
   ]
  },
  {
   "cell_type": "code",
   "execution_count": 113,
   "metadata": {},
   "outputs": [],
   "source": [
    " # First statistical test, between Percent_SSC and Placement\n",
    "    \n",
    "#Ho : mean of percent_ssc of placed is equal to mean of percent_ssc of not placed.\n",
    "#Ha : mean of percent_ssc of placed is not equal to mean of percent_ssc of not placed."
   ]
  },
  {
   "cell_type": "code",
   "execution_count": 122,
   "metadata": {},
   "outputs": [],
   "source": [
    "Percent_SSC_placed = admission[admission['Placement']=='Placed']['Percent_SSC']\n",
    "Percent_SSC_notplaced = admission[admission['Placement']=='Not Placed']['Percent_SSC']\n",
    "#print(Percent_SSC_placed)"
   ]
  },
  {
   "cell_type": "code",
   "execution_count": 121,
   "metadata": {},
   "outputs": [
    {
     "data": {
      "text/plain": [
       "Ttest_indResult(statistic=3.3715492838650802, pvalue=0.0008223646077585148)"
      ]
     },
     "execution_count": 121,
     "metadata": {},
     "output_type": "execute_result"
    }
   ],
   "source": [
    "# we consider both the group to be normal, hence we go for independent parametric t test.\n",
    "\n",
    "stats.ttest_ind(Percent_SSC_placed,Percent_SSC_notplaced)"
   ]
  },
  {
   "cell_type": "markdown",
   "metadata": {},
   "source": [
    "It is observed from the statistical test that the value of probaiblity is less than 0.05 hence we reject the NULL hypothesis."
   ]
  },
  {
   "cell_type": "code",
   "execution_count": 123,
   "metadata": {},
   "outputs": [
    {
     "data": {
      "image/png": "[encoded data removed]",
      "text/plain": [
       "<Figure size 720x360 with 1 Axes>"
      ]
     },
     "metadata": {
      "needs_background": "light"
     },
     "output_type": "display_data"
    }
   ],
   "source": [
    "# Post_HOC analysis......\n",
    "\n",
    "plt.figure(figsize=(10,5))\n",
    "sns.kdeplot(Percent_SSC_placed, color='blue', label='Percent_SSC_placed')\n",
    "plt.axvline(np.mean(Percent_SSC_placed), color='blue')\n",
    "sns.kdeplot(Percent_SSC_notplaced, color='red', label='Percent_SSC_notplaced')\n",
    "plt.axvline(np.mean(Percent_SSC_notplaced), color='red')\n",
    "plt.legend()\n",
    "plt.show()"
   ]
  },
  {
   "cell_type": "markdown",
   "metadata": {},
   "source": [
    "It is very evident from the plot that the mean of Percent_SSC_placed is greater than the mena of Percent_SSC_notplaced. Hence  we reject the NULL hypothesis."
   ]
  },
  {
   "cell_type": "code",
   "execution_count": 124,
   "metadata": {},
   "outputs": [],
   "source": [
    " # Second statistical test, between gender and Placement\n",
    "    \n",
    "#Ho : proportion of male placed is equal to proportion of female placed.\n",
    "#Ha : proportion of male placed is not equal to proportion of female placed."
   ]
  },
  {
   "cell_type": "code",
   "execution_count": 127,
   "metadata": {},
   "outputs": [
    {
     "data": {
      "text/html": [
       "<div>\n",
       "<style scoped>\n",
       "    .dataframe tbody tr th:only-of-type {\n",
       "        vertical-align: middle;\n",
       "    }\n",
       "\n",
       "    .dataframe tbody tr th {\n",
       "        vertical-align: top;\n",
       "    }\n",
       "\n",
       "    .dataframe thead th {\n",
       "        text-align: right;\n",
       "    }\n",
       "</style>\n",
       "<table border=\"1\" class=\"dataframe\">\n",
       "  <thead>\n",
       "    <tr style=\"text-align: right;\">\n",
       "      <th>Placement</th>\n",
       "      <th>Not Placed</th>\n",
       "      <th>Placed</th>\n",
       "    </tr>\n",
       "    <tr>\n",
       "      <th>Gender</th>\n",
       "      <th></th>\n",
       "      <th></th>\n",
       "    </tr>\n",
       "  </thead>\n",
       "  <tbody>\n",
       "    <tr>\n",
       "      <th>F</th>\n",
       "      <td>30</td>\n",
       "      <td>97</td>\n",
       "    </tr>\n",
       "    <tr>\n",
       "      <th>M</th>\n",
       "      <td>49</td>\n",
       "      <td>215</td>\n",
       "    </tr>\n",
       "  </tbody>\n",
       "</table>\n",
       "</div>"
      ],
      "text/plain": [
       "Placement  Not Placed  Placed\n",
       "Gender                       \n",
       "F                  30      97\n",
       "M                  49     215"
      ]
     },
     "execution_count": 127,
     "metadata": {},
     "output_type": "execute_result"
    }
   ],
   "source": [
    "ct = pd.crosstab(admission['Gender'],admission['Placement'])\n",
    "ct"
   ]
  },
  {
   "cell_type": "markdown",
   "metadata": {},
   "source": [
    "It is just a 2*2 matrix, hence we can either go for proportion_ztest or chisquare or chi2_contigency statistical test. I prefer to use chi2_contigency test."
   ]
  },
  {
   "cell_type": "code",
   "execution_count": 129,
   "metadata": {},
   "outputs": [
    {
     "name": "stdout",
     "output_type": "stream",
     "text": [
      "The value of chi_square is 1.0666897, pvalue is 0.3016944, degree of freedom is 1 \n"
     ]
    }
   ],
   "source": [
    "chi_square, p_value, ddof, expected_values = chi2_contingency(ct)\n",
    "\n",
    "print('The value of chi_square is %2.7f, pvalue is %2.7f, degree of freedom is %d ' %(chi_square,p_value,ddof))"
   ]
  },
  {
   "cell_type": "markdown",
   "metadata": {},
   "source": [
    "Our p_value is greater than 0.05, hence we can say that there is no evidence to fail our NULL hypothesis. We can conclude that the proportion of male placed is equal to the proportion of female placed."
   ]
  },
  {
   "cell_type": "code",
   "execution_count": 135,
   "metadata": {},
   "outputs": [
    {
     "data": {
      "text/plain": [
       "Management               163\n",
       "Commerce                 117\n",
       "Engineering               37\n",
       "Computer Applications     32\n",
       "Science                   24\n",
       "Arts                      13\n",
       "Others                     5\n",
       "Name: Course_Degree, dtype: int64"
      ]
     },
     "execution_count": 135,
     "metadata": {},
     "output_type": "execute_result"
    }
   ],
   "source": [
    " # Third statistical test, between Course_Degree and Placement\n",
    "\n",
    "#Ho : They are all independent.\n",
    "#Ha : They all are dependent.\n",
    "    \n",
    "admission['Course_Degree'].value_counts()"
   ]
  },
  {
   "cell_type": "markdown",
   "metadata": {},
   "source": [
    "Course_Degree is a multiple class categorical feature, hence we use chi2_contigency(test of independece) to observe the behaviour with our target feature."
   ]
  },
  {
   "cell_type": "code",
   "execution_count": 133,
   "metadata": {},
   "outputs": [
    {
     "data": {
      "text/html": [
       "<div>\n",
       "<style scoped>\n",
       "    .dataframe tbody tr th:only-of-type {\n",
       "        vertical-align: middle;\n",
       "    }\n",
       "\n",
       "    .dataframe tbody tr th {\n",
       "        vertical-align: top;\n",
       "    }\n",
       "\n",
       "    .dataframe thead th {\n",
       "        text-align: right;\n",
       "    }\n",
       "</style>\n",
       "<table border=\"1\" class=\"dataframe\">\n",
       "  <thead>\n",
       "    <tr style=\"text-align: right;\">\n",
       "      <th>Placement</th>\n",
       "      <th>Not Placed</th>\n",
       "      <th>Placed</th>\n",
       "    </tr>\n",
       "    <tr>\n",
       "      <th>Course_Degree</th>\n",
       "      <th></th>\n",
       "      <th></th>\n",
       "    </tr>\n",
       "  </thead>\n",
       "  <tbody>\n",
       "    <tr>\n",
       "      <th>Arts</th>\n",
       "      <td>3</td>\n",
       "      <td>10</td>\n",
       "    </tr>\n",
       "    <tr>\n",
       "      <th>Commerce</th>\n",
       "      <td>23</td>\n",
       "      <td>94</td>\n",
       "    </tr>\n",
       "    <tr>\n",
       "      <th>Computer Applications</th>\n",
       "      <td>8</td>\n",
       "      <td>24</td>\n",
       "    </tr>\n",
       "    <tr>\n",
       "      <th>Engineering</th>\n",
       "      <td>7</td>\n",
       "      <td>30</td>\n",
       "    </tr>\n",
       "    <tr>\n",
       "      <th>Management</th>\n",
       "      <td>34</td>\n",
       "      <td>129</td>\n",
       "    </tr>\n",
       "    <tr>\n",
       "      <th>Others</th>\n",
       "      <td>1</td>\n",
       "      <td>4</td>\n",
       "    </tr>\n",
       "    <tr>\n",
       "      <th>Science</th>\n",
       "      <td>3</td>\n",
       "      <td>21</td>\n",
       "    </tr>\n",
       "  </tbody>\n",
       "</table>\n",
       "</div>"
      ],
      "text/plain": [
       "Placement              Not Placed  Placed\n",
       "Course_Degree                            \n",
       "Arts                            3      10\n",
       "Commerce                       23      94\n",
       "Computer Applications           8      24\n",
       "Engineering                     7      30\n",
       "Management                     34     129\n",
       "Others                          1       4\n",
       "Science                         3      21"
      ]
     },
     "execution_count": 133,
     "metadata": {},
     "output_type": "execute_result"
    }
   ],
   "source": [
    "ct = pd.crosstab(admission['Course_Degree'], admission['Placement'])\n",
    "ct"
   ]
  },
  {
   "cell_type": "code",
   "execution_count": 134,
   "metadata": {},
   "outputs": [
    {
     "name": "stdout",
     "output_type": "stream",
     "text": [
      "The value of chi_square is 1.5096270, pvalue is 0.9588525, degree of freedom is 6 \n"
     ]
    }
   ],
   "source": [
    "chi_square, p_value, ddof, expected_values = chi2_contingency(ct)\n",
    "\n",
    "print('The value of chi_square is %2.7f, pvalue is %2.7f, degree of freedom is %d ' %(chi_square,p_value,ddof))"
   ]
  },
  {
   "cell_type": "markdown",
   "metadata": {},
   "source": [
    "It is very evident from the P-value, which is greater than 0.05, that the Course_Degree has a significant effect on the target feature, Placement. We accept our NULL hypothesis."
   ]
  },
  {
   "cell_type": "code",
   "execution_count": 136,
   "metadata": {},
   "outputs": [],
   "source": [
    " # First statistical test, between Percent_SSC and Placement\n",
    "    \n",
    "#Ho : mean of percent_ssc of placed is equal to mean of percent_hsc of not placed.\n",
    "#Ha : mean of percent_ssc of placed is not equal to mean of percent_hsc of not placed."
   ]
  },
  {
   "cell_type": "code",
   "execution_count": 137,
   "metadata": {},
   "outputs": [],
   "source": [
    "Percent_HSC_placed = admission[admission['Placement']=='Placed']['Percent_HSC']\n",
    "Percent_HSC_notplaced = admission[admission['Placement']=='Not Placed']['Percent_HSC']\n",
    "#print(Percent_SSC_placed)"
   ]
  },
  {
   "cell_type": "code",
   "execution_count": 138,
   "metadata": {},
   "outputs": [
    {
     "data": {
      "text/plain": [
       "Ttest_indResult(statistic=1.0316920210209104, pvalue=0.30285741645216996)"
      ]
     },
     "execution_count": 138,
     "metadata": {},
     "output_type": "execute_result"
    }
   ],
   "source": [
    "# we consider both the group to be normal, hence we go for independent parametric t test.\n",
    "\n",
    "stats.ttest_ind(Percent_HSC_placed,Percent_HSC_notplaced)"
   ]
  },
  {
   "cell_type": "markdown",
   "metadata": {},
   "source": [
    "It is observed from the statistical test that the value of probaiblity is greater than 0.05 hence we accept the NULL hypothesis.\n",
    "We dont have evidence to fail our NULL hypothesis. "
   ]
  }
 ],
 "metadata": {
  "colab": {
   "collapsed_sections": [],
   "name": "STAT_MID_SET3_QUESTION.ipynb",
   "provenance": []
  },
  "kernelspec": {
   "display_name": "Python 3",
   "language": "python",
   "name": "python3"
  },
  "language_info": {
   "codemirror_mode": {
    "name": "ipython",
    "version": 3
   },
   "file_extension": ".py",
   "mimetype": "text/x-python",
   "name": "python",
   "nbconvert_exporter": "python",
   "pygments_lexer": "ipython3",
   "version": "3.8.3"
  }
 },
 "nbformat": 4,
 "nbformat_minor": 1
}
