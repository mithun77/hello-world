{
 "cells": [
  {
   "cell_type": "markdown",
   "metadata": {},
   "source": [
    "# EDA MID EXAM"
   ]
  },
  {
   "cell_type": "markdown",
   "metadata": {},
   "source": [
    "---------------------------"
   ]
  },
  {
   "cell_type": "markdown",
   "metadata": {},
   "source": [
    "# SECTION A: 5 MARKS"
   ]
  },
  {
   "cell_type": "markdown",
   "metadata": {},
   "source": [
    "--------------"
   ]
  },
  {
   "cell_type": "markdown",
   "metadata": {},
   "source": [
    "### 1. Describe the difference between univariate, bivariate and multivariate analysis? (5 MARKS)"
   ]
  },
  {
   "cell_type": "markdown",
   "metadata": {},
   "source": [
    "Generally data is classified into Numerical(exclusing object dtype) and Categorical(only object dtype). \n",
    "\n",
    "Univariate analysis is used to find how an attribute behaves or how its values are distributed. And to achieve that we have multiple techniques for both Numerical data and Categorical data.\n",
    "\n",
    "Numerical univariate analysis :- Histogram, Boxplot, Distplot, Violinplot, KDEplot etc..\n",
    "Categorical univariate analysis:- Pie chart, Countplot\n",
    "\n",
    "\n",
    "Bivariate analysis is used to know how two attributes behaves with respect to each other. In univariate we saw only how the values are distributed in itself,. Whereas here, we get to know how any two attributes is related to other, we get to know how they are related, what bond they poses, how much correlated they are and so on...\n",
    "\n",
    "Here also it is split into, Num-Num, Num-Catg and Catg-Catg bivariate analysis.\n",
    "Num-Num, both the attributes are numerical. We get to know their relation with the help of Scatter or Line plots.\n",
    "Num-Catg, in this one of the attribute is numerical and the other is categorical. We get to know how the data behaves correspodning with the help of, Boxplot, Violinplot, Boxenplot, Barplot, Stripplot, Swarnplot etc...\n",
    "Catg-Catg, We can also know how two categorical columns are related to each other with the help of stacked bar plot or side by side bar plot.\n",
    "\n",
    "Multivariate analysis :- As the name suggest, we get to know how more than two attributes are behaving with respect to each other or we get to know their relationship among themselves.\n",
    "Any graphs that accepts HUE data will help be good with multivariate analysis like, Scatterplot, Pairplot, HeatMap, Boxplot, Violinplot, BoxenPlot etc..."
   ]
  },
  {
   "cell_type": "markdown",
   "metadata": {},
   "source": [
    "# SECTION B: 10 MARKS"
   ]
  },
  {
   "cell_type": "markdown",
   "metadata": {},
   "source": [
    "-------------"
   ]
  },
  {
   "cell_type": "markdown",
   "metadata": {},
   "source": [
    "### Data Set Information: This is a countrywide car accident dataset"
   ]
  },
  {
   "cell_type": "markdown",
   "metadata": {},
   "source": [
    "1. 'ID' = This is a unique identifier of the accident record.\n",
    "\n",
    "2. TMC' = A traffic accident may have a Traffic Message Channel (TMC) code which provides more detailed description of the \n",
    "\n",
    "3. 'Severity' =  Shows the severity of the accident, a number between 1 and 4, where 1 indicates the least impact on traffic (i.e., short delay\n",
    "\n",
    "4. 'Start_Time' =  Shows start time of the accident in local time zone.\n",
    "\n",
    "5. 'End_Time'= Shows end time of the accident in local time zone. End time here refers to when the impact of accident on traffic flow\n",
    "\n",
    "6. 'Distance(mi)' = The length of the road extent affected by the accident.\n",
    "\n",
    "7. 'Number'= Shows the street number in address record.  \n",
    "\n",
    "8. 'Side' =  Shows the relative side of the street (Right/Left) in address record.\n",
    "\n",
    "9. 'City'=  Shows the city in address record.\n",
    "\n",
    "10. 'County'= Shows the county in address record.\n",
    "\n",
    "11. 'State'=Shows the state in address record.\n",
    "\n",
    "12. 'Zipcode'= Shows the zipcode in address record.\n",
    "\n",
    "13. 'Weather_Timestamp'= Shows the time-stamp of weather observation record (in local time). \n",
    "\n",
    "14. 'Temperature(F)' = Shows the temperature (in Fahrenheit).\n",
    "\n",
    "15. 'Wind_Chill(F)' = Shows the wind chill (in Fahrenheit). \n",
    "\n",
    "16. 'Humidity(%)'= Shows the humidity (in percentage)\n",
    "\n",
    "17. 'Pressure(in)'=Shows the air pressure (in inches).\n",
    "\n",
    "18. 'Visibility(mi)' = Shows visibility (in miles).\n",
    "\n",
    "19. 'Wind_Direction' =Shows wind direction. \n",
    "\n",
    "20. 'Wind_Speed(mph)'= Shows wind speed (in miles per hour).\n",
    "       \n",
    "21. 'Precipitation(in)' =Shows precipitation amount in inches, if there is any. '\n",
    "\n",
    "22. Weather_Condition' = Shows the weather condition (rain, snow, thunderstorm, fog, etc.\n",
    "       "
   ]
  },
  {
   "cell_type": "code",
   "execution_count": 116,
   "metadata": {},
   "outputs": [],
   "source": [
    "# Kindly change the below cells from markdown to code and execute it "
   ]
  },
  {
   "cell_type": "code",
   "execution_count": 117,
   "metadata": {},
   "outputs": [
    {
     "name": "stdout",
     "output_type": "stream",
     "text": [
      "(1044, 22)\n"
     ]
    },
    {
     "data": {
      "text/html": [
       "<div>\n",
       "<style scoped>\n",
       "    .dataframe tbody tr th:only-of-type {\n",
       "        vertical-align: middle;\n",
       "    }\n",
       "\n",
       "    .dataframe tbody tr th {\n",
       "        vertical-align: top;\n",
       "    }\n",
       "\n",
       "    .dataframe thead th {\n",
       "        text-align: right;\n",
       "    }\n",
       "</style>\n",
       "<table border=\"1\" class=\"dataframe\">\n",
       "  <thead>\n",
       "    <tr style=\"text-align: right;\">\n",
       "      <th></th>\n",
       "      <th>ID</th>\n",
       "      <th>TMC</th>\n",
       "      <th>Severity</th>\n",
       "      <th>Start_Time</th>\n",
       "      <th>End_Time</th>\n",
       "      <th>Distance(mi)</th>\n",
       "      <th>Number</th>\n",
       "      <th>Side</th>\n",
       "      <th>City</th>\n",
       "      <th>County</th>\n",
       "      <th>...</th>\n",
       "      <th>Weather_Timestamp</th>\n",
       "      <th>Temperature(F)</th>\n",
       "      <th>Wind_Chill(F)</th>\n",
       "      <th>Humidity(%)</th>\n",
       "      <th>Pressure(in)</th>\n",
       "      <th>Visibility(mi)</th>\n",
       "      <th>Wind_Direction</th>\n",
       "      <th>Wind_Speed(mph)</th>\n",
       "      <th>Precipitation(in)</th>\n",
       "      <th>Weather_Condition</th>\n",
       "    </tr>\n",
       "  </thead>\n",
       "  <tbody>\n",
       "    <tr>\n",
       "      <th>0</th>\n",
       "      <td>A-102</td>\n",
       "      <td>241</td>\n",
       "      <td>2</td>\n",
       "      <td>11-02-2016 08:34</td>\n",
       "      <td>11-02-2016 09:04</td>\n",
       "      <td>0.48</td>\n",
       "      <td>NaN</td>\n",
       "      <td>R</td>\n",
       "      <td>Columbus</td>\n",
       "      <td>Franklin</td>\n",
       "      <td>...</td>\n",
       "      <td>11-02-2016 08:53</td>\n",
       "      <td>12.0</td>\n",
       "      <td>1.5</td>\n",
       "      <td>77.0</td>\n",
       "      <td>30.26</td>\n",
       "      <td>10.0</td>\n",
       "      <td>West</td>\n",
       "      <td>6.9</td>\n",
       "      <td>NaN</td>\n",
       "      <td>Overcast</td>\n",
       "    </tr>\n",
       "    <tr>\n",
       "      <th>1</th>\n",
       "      <td>A-121</td>\n",
       "      <td>201</td>\n",
       "      <td>3</td>\n",
       "      <td>11-02-2016 19:22</td>\n",
       "      <td>11-02-2016 21:00</td>\n",
       "      <td>0.01</td>\n",
       "      <td>NaN</td>\n",
       "      <td>R</td>\n",
       "      <td>Columbus</td>\n",
       "      <td>Franklin</td>\n",
       "      <td>...</td>\n",
       "      <td>11-02-2016 19:51</td>\n",
       "      <td>17.1</td>\n",
       "      <td>11.7</td>\n",
       "      <td>62.0</td>\n",
       "      <td>30.35</td>\n",
       "      <td>10.0</td>\n",
       "      <td>SW</td>\n",
       "      <td>3.5</td>\n",
       "      <td>0.0</td>\n",
       "      <td>Mostly Cloudy</td>\n",
       "    </tr>\n",
       "    <tr>\n",
       "      <th>2</th>\n",
       "      <td>A-242</td>\n",
       "      <td>241</td>\n",
       "      <td>3</td>\n",
       "      <td>18-02-2016 07:50</td>\n",
       "      <td>18-02-2016 08:20</td>\n",
       "      <td>0.01</td>\n",
       "      <td>NaN</td>\n",
       "      <td>R</td>\n",
       "      <td>Dayton</td>\n",
       "      <td>Montgomery</td>\n",
       "      <td>...</td>\n",
       "      <td>18-02-2016 07:56</td>\n",
       "      <td>26.1</td>\n",
       "      <td>NaN</td>\n",
       "      <td>81.0</td>\n",
       "      <td>30.50</td>\n",
       "      <td>5.0</td>\n",
       "      <td>Calm</td>\n",
       "      <td>NaN</td>\n",
       "      <td>NaN</td>\n",
       "      <td>Haze</td>\n",
       "    </tr>\n",
       "    <tr>\n",
       "      <th>3</th>\n",
       "      <td>A-243</td>\n",
       "      <td>241</td>\n",
       "      <td>2</td>\n",
       "      <td>18-02-2016 08:01</td>\n",
       "      <td>18-02-2016 08:31</td>\n",
       "      <td>0.01</td>\n",
       "      <td>NaN</td>\n",
       "      <td>R</td>\n",
       "      <td>Dayton</td>\n",
       "      <td>Montgomery</td>\n",
       "      <td>...</td>\n",
       "      <td>18-02-2016 07:58</td>\n",
       "      <td>25.9</td>\n",
       "      <td>NaN</td>\n",
       "      <td>86.0</td>\n",
       "      <td>30.50</td>\n",
       "      <td>10.0</td>\n",
       "      <td>Calm</td>\n",
       "      <td>NaN</td>\n",
       "      <td>NaN</td>\n",
       "      <td>Mostly Cloudy</td>\n",
       "    </tr>\n",
       "    <tr>\n",
       "      <th>4</th>\n",
       "      <td>A-257</td>\n",
       "      <td>245</td>\n",
       "      <td>3</td>\n",
       "      <td>18-02-2016 09:25</td>\n",
       "      <td>18-02-2016 09:55</td>\n",
       "      <td>0.01</td>\n",
       "      <td>NaN</td>\n",
       "      <td>R</td>\n",
       "      <td>Columbus</td>\n",
       "      <td>Franklin</td>\n",
       "      <td>...</td>\n",
       "      <td>18-02-2016 09:51</td>\n",
       "      <td>30.0</td>\n",
       "      <td>23.2</td>\n",
       "      <td>72.0</td>\n",
       "      <td>30.53</td>\n",
       "      <td>7.0</td>\n",
       "      <td>East</td>\n",
       "      <td>6.9</td>\n",
       "      <td>NaN</td>\n",
       "      <td>Mostly Cloudy</td>\n",
       "    </tr>\n",
       "  </tbody>\n",
       "</table>\n",
       "<p>5 rows × 22 columns</p>\n",
       "</div>"
      ],
      "text/plain": [
       "      ID  TMC  Severity        Start_Time          End_Time  Distance(mi)  \\\n",
       "0  A-102  241         2  11-02-2016 08:34  11-02-2016 09:04          0.48   \n",
       "1  A-121  201         3  11-02-2016 19:22  11-02-2016 21:00          0.01   \n",
       "2  A-242  241         3  18-02-2016 07:50  18-02-2016 08:20          0.01   \n",
       "3  A-243  241         2  18-02-2016 08:01  18-02-2016 08:31          0.01   \n",
       "4  A-257  245         3  18-02-2016 09:25  18-02-2016 09:55          0.01   \n",
       "\n",
       "   Number Side      City      County  ... Weather_Timestamp Temperature(F)  \\\n",
       "0     NaN    R  Columbus    Franklin  ...  11-02-2016 08:53           12.0   \n",
       "1     NaN    R  Columbus    Franklin  ...  11-02-2016 19:51           17.1   \n",
       "2     NaN    R    Dayton  Montgomery  ...  18-02-2016 07:56           26.1   \n",
       "3     NaN    R    Dayton  Montgomery  ...  18-02-2016 07:58           25.9   \n",
       "4     NaN    R  Columbus    Franklin  ...  18-02-2016 09:51           30.0   \n",
       "\n",
       "  Wind_Chill(F)  Humidity(%)  Pressure(in)  Visibility(mi)  Wind_Direction  \\\n",
       "0           1.5         77.0         30.26            10.0            West   \n",
       "1          11.7         62.0         30.35            10.0              SW   \n",
       "2           NaN         81.0         30.50             5.0            Calm   \n",
       "3           NaN         86.0         30.50            10.0            Calm   \n",
       "4          23.2         72.0         30.53             7.0            East   \n",
       "\n",
       "   Wind_Speed(mph) Precipitation(in)  Weather_Condition  \n",
       "0              6.9               NaN           Overcast  \n",
       "1              3.5               0.0      Mostly Cloudy  \n",
       "2              NaN               NaN               Haze  \n",
       "3              NaN               NaN      Mostly Cloudy  \n",
       "4              6.9               NaN      Mostly Cloudy  \n",
       "\n",
       "[5 rows x 22 columns]"
      ]
     },
     "execution_count": 117,
     "metadata": {},
     "output_type": "execute_result"
    }
   ],
   "source": [
    "import pandas as pd\n",
    "\n",
    "import csv\n",
    "\n",
    "with open(\"data_set.csv\",\"r\")as file:\n",
    "\n",
    "    reader=csv.reader(file) \n",
    "\n",
    "df=pd.read_csv(\"data_set.csv\")\n",
    "\n",
    "print(df.shape)\n",
    "\n",
    "df.head()"
   ]
  },
  {
   "cell_type": "markdown",
   "metadata": {},
   "source": [
    "### 2.  load the dataset \n",
    "  \n",
    "  \n",
    " a. Display the total count of each state (in desc order) and display its corresponding bar plot (3 MARKS)\n",
    "  \n",
    " b. Create a dataframe with only the top 5 states and display its corresponding bar plot (5 MARKS)\n",
    "  \n",
    " c. From the state which has the highest occurrence  of accidents, which particular city contribute to the most (2 MARKS)"
   ]
  },
  {
   "cell_type": "code",
   "execution_count": 118,
   "metadata": {},
   "outputs": [],
   "source": [
    "import matplotlib.pyplot as plt\n",
    "import seaborn as sns\n",
    "import numpy as np"
   ]
  },
  {
   "cell_type": "code",
   "execution_count": 119,
   "metadata": {},
   "outputs": [
    {
     "data": {
      "text/plain": [
       "Index(['ID', 'TMC', 'Severity', 'Start_Time', 'End_Time', 'Distance(mi)',\n",
       "       'Number', 'Side', 'City', 'County', 'State', 'Zipcode',\n",
       "       'Weather_Timestamp', 'Temperature(F)', 'Wind_Chill(F)', 'Humidity(%)',\n",
       "       'Pressure(in)', 'Visibility(mi)', 'Wind_Direction', 'Wind_Speed(mph)',\n",
       "       'Precipitation(in)', 'Weather_Condition'],\n",
       "      dtype='object')"
      ]
     },
     "execution_count": 119,
     "metadata": {},
     "output_type": "execute_result"
    }
   ],
   "source": [
    "df.columns"
   ]
  },
  {
   "cell_type": "code",
   "execution_count": 121,
   "metadata": {},
   "outputs": [
    {
     "data": {
      "text/plain": [
       "ID                      0\n",
       "TMC                     0\n",
       "Severity                0\n",
       "Start_Time              0\n",
       "End_Time                0\n",
       "Distance(mi)            0\n",
       "Number                820\n",
       "Side                    0\n",
       "City                    0\n",
       "County                  0\n",
       "State                   0\n",
       "Zipcode                 0\n",
       "Weather_Timestamp      17\n",
       "Temperature(F)         23\n",
       "Wind_Chill(F)        1002\n",
       "Humidity(%)            23\n",
       "Pressure(in)           22\n",
       "Visibility(mi)         24\n",
       "Wind_Direction         17\n",
       "Wind_Speed(mph)       196\n",
       "Precipitation(in)     989\n",
       "Weather_Condition      22\n",
       "dtype: int64"
      ]
     },
     "execution_count": 121,
     "metadata": {},
     "output_type": "execute_result"
    }
   ],
   "source": [
    "df.isna().sum() "
   ]
  },
  {
   "cell_type": "markdown",
   "metadata": {},
   "source": [
    "Observation :- Gives us the count of missing values in each attribute of the dataset"
   ]
  },
  {
   "cell_type": "code",
   "execution_count": 122,
   "metadata": {},
   "outputs": [
    {
     "data": {
      "text/plain": [
       "CA    581\n",
       "FL    102\n",
       "WA     43\n",
       "UT     39\n",
       "IL     38\n",
       "OR     36\n",
       "GA     33\n",
       "NY     29\n",
       "NC     24\n",
       "MI     23\n",
       "OH     15\n",
       "TX     13\n",
       "CO     10\n",
       "NJ      8\n",
       "VA      7\n",
       "NH      6\n",
       "TN      5\n",
       "MO      5\n",
       "MN      5\n",
       "PA      3\n",
       "WI      3\n",
       "NE      2\n",
       "RI      2\n",
       "CT      2\n",
       "KS      2\n",
       "MD      2\n",
       "SC      1\n",
       "NV      1\n",
       "KY      1\n",
       "LA      1\n",
       "DC      1\n",
       "AZ      1\n",
       "Name: State, dtype: int64"
      ]
     },
     "execution_count": 122,
     "metadata": {},
     "output_type": "execute_result"
    }
   ],
   "source": [
    "count_state = df['State'].value_counts()\n",
    "count_state"
   ]
  },
  {
   "cell_type": "markdown",
   "metadata": {},
   "source": [
    "Observation :- \n",
    "    In the above output, we can see the count of accidents took place in its respective State. We try to depict the same information using bar plot. We can also use count plot to perform this operation."
   ]
  },
  {
   "cell_type": "code",
   "execution_count": 123,
   "metadata": {},
   "outputs": [
    {
     "data": {
      "image/png": "[encoded data removed]",
      "text/plain": [
       "<Figure size 1080x360 with 1 Axes>"
      ]
     },
     "metadata": {
      "needs_background": "light"
     },
     "output_type": "display_data"
    }
   ],
   "source": [
    "plt.figure(figsize=(15,5))\n",
    "count_state.plot(kind='bar')\n",
    "plt.xticks()\n",
    "plt.show()"
   ]
  },
  {
   "cell_type": "markdown",
   "metadata": {},
   "source": [
    "Observation:-\n",
    "    From the above graph it is infered that the State with the highest occurence of accident is CA with approx 580 accidents followed by FL, WA, UT, IL an so on. "
   ]
  },
  {
   "cell_type": "code",
   "execution_count": 127,
   "metadata": {},
   "outputs": [
    {
     "name": "stdout",
     "output_type": "stream",
     "text": [
      "['CA', 'FL', 'WA', 'UT', 'IL']\n",
      "(803, 22)\n"
     ]
    },
    {
     "data": {
      "image/png": "[encoded data removed]",
      "text/plain": [
       "<Figure size 432x288 with 1 Axes>"
      ]
     },
     "metadata": {
      "needs_background": "light"
     },
     "output_type": "display_data"
    }
   ],
   "source": [
    "top5=[]\n",
    "for i in df['State'].value_counts()[:5].index:\n",
    "    top5.append(i)\n",
    "print(top5)\n",
    "\n",
    "df_top5 = df[(df['State'] == 'CA') | (df['State'] == 'FL') | (df['State'] == 'WA') | (df['State'] == 'UT') | (df['State'] == 'IL')]\n",
    "print(df_top5.shape)\n",
    "\n",
    "df_top5['State'].value_counts().plot(kind='bar', color='hotpink')\n",
    "plt.show()"
   ]
  },
  {
   "cell_type": "markdown",
   "metadata": {},
   "source": [
    "Observation :-\n",
    "    We have considered only TOP5 states with the highest accidents and created a seperate DatFrame 'df_top5' for it.\n",
    "    It is observed that these 5 cities are accountable for around 80% of the total accidents happened."
   ]
  },
  {
   "cell_type": "markdown",
   "metadata": {},
   "source": [
    "From the state which has the highest occurrence  of accidents, which particular city contribute to the most (2 MARKS)\n",
    "\n",
    "It is observed that the highest occurence of accident is from state 'CA'. It is recorded around 580 accidents from that particular state. It was followed by states, FL, WA, UT and IL. These State contibutes around 80% of the total accidents."
   ]
  },
  {
   "cell_type": "markdown",
   "metadata": {},
   "source": [
    "# SECTION C: 15 MARKS"
   ]
  },
  {
   "cell_type": "markdown",
   "metadata": {},
   "source": [
    "--------------------------"
   ]
  },
  {
   "cell_type": "markdown",
   "metadata": {},
   "source": [
    "### 3. Using same dataset answer the below questions\n",
    "  \n",
    "  \n",
    "a. Plot the count of the severity levels of accidents that are occurring, provide observations (3 MARKS)\n",
    "\n",
    "b. Plot the top 4 weather conditions causing an accident in terms of percentage. (4 MARKS)\n",
    "\n",
    "c. Extract years (only) in which the accident has occurred Hint: Use the Start_Time column (3 MARKS)\n",
    "\n",
    "d. Using a trend chart state the time period in which more number of accidents has occurred (5 MARKS)"
   ]
  },
  {
   "cell_type": "code",
   "execution_count": 128,
   "metadata": {},
   "outputs": [
    {
     "data": {
      "text/plain": [
       "2    536\n",
       "3    506\n",
       "1      2\n",
       "Name: Severity, dtype: int64"
      ]
     },
     "execution_count": 128,
     "metadata": {},
     "output_type": "execute_result"
    }
   ],
   "source": [
    "df['Severity'].value_counts()"
   ]
  },
  {
   "cell_type": "code",
   "execution_count": 129,
   "metadata": {},
   "outputs": [
    {
     "data": {
      "text/plain": [
       "<matplotlib.axes._subplots.AxesSubplot at 0x7f88133f05c0>"
      ]
     },
     "execution_count": 129,
     "metadata": {},
     "output_type": "execute_result"
    },
    {
     "data": {
      "image/png": "[encoded data removed]",
      "text/plain": [
       "<Figure size 432x288 with 1 Axes>"
      ]
     },
     "metadata": {
      "needs_background": "light"
     },
     "output_type": "display_data"
    }
   ],
   "source": [
    "sns.countplot(df['Severity'], color='yellow')"
   ]
  },
  {
   "cell_type": "markdown",
   "metadata": {},
   "source": [
    "Observation :-\n",
    "\n",
    "It is said that the severity level ranegs from 1-4, where 1 being the least and 4 being the most.\n",
    "From the graph we can conclude that there are no FATAL accidents(No data for Severity 4). And also the number of accidents of Severity type 1 is also almost Zero.\n",
    "\n",
    "But the number of accidents of Severity 2 and 3 is very high. Almost 99% od the accident happened belong to severity type 2 and 3. So we can conclude that 50% of accidnets belong to severity type 2, which is moderate accident, and remaining 49% in severity type 3, which is pretty terrible accident."
   ]
  },
  {
   "cell_type": "code",
   "execution_count": 130,
   "metadata": {},
   "outputs": [
    {
     "data": {
      "text/plain": [
       "Clear                           0.004061\n",
       "Overcast                        0.001466\n",
       "Scattered Clouds                0.001121\n",
       "Mostly Cloudy                   0.001054\n",
       "Partly Cloudy                   0.001006\n",
       "Haze                            0.000632\n",
       "Light Rain                      0.000125\n",
       "Smoke                           0.000077\n",
       "Thunderstorms and Rain          0.000038\n",
       "Rain                            0.000038\n",
       "Light Snow                      0.000038\n",
       "Fog                             0.000038\n",
       "Thunderstorm                    0.000029\n",
       "Heavy Rain                      0.000019\n",
       "Light Thunderstorms and Rain    0.000019\n",
       "Heavy Thunderstorms and Rain    0.000019\n",
       "Light Drizzle                   0.000010\n",
       "Name: Weather_Condition, dtype: float64"
      ]
     },
     "execution_count": 130,
     "metadata": {},
     "output_type": "execute_result"
    }
   ],
   "source": [
    "df['Weather_Condition'].value_counts() / (len(df['Weather_Condition']) * 100)"
   ]
  },
  {
   "cell_type": "code",
   "execution_count": 131,
   "metadata": {},
   "outputs": [
    {
     "data": {
      "text/plain": [
       "0               Clear\n",
       "1            Overcast\n",
       "2    Scattered Clouds\n",
       "3       Mostly Cloudy\n",
       "dtype: object"
      ]
     },
     "execution_count": 131,
     "metadata": {},
     "output_type": "execute_result"
    }
   ],
   "source": [
    "top4 = df['Weather_Condition'].value_counts() / (len(df['Weather_Condition']) * 100)\n",
    "top4_array = top4.index[:4]\n",
    "top4_series = pd.Series(top4_array)\n",
    "top4_series"
   ]
  },
  {
   "cell_type": "code",
   "execution_count": 132,
   "metadata": {},
   "outputs": [
    {
     "data": {
      "text/plain": [
       "<matplotlib.axes._subplots.AxesSubplot at 0x7f88139a8f28>"
      ]
     },
     "execution_count": 132,
     "metadata": {},
     "output_type": "execute_result"
    },
    {
     "data": {
      "image/png": "[encoded data removed]",
      "text/plain": [
       "<Figure size 432x288 with 1 Axes>"
      ]
     },
     "metadata": {
      "needs_background": "light"
     },
     "output_type": "display_data"
    }
   ],
   "source": [
    "top4[:4].plot(kind='bar')"
   ]
  },
  {
   "cell_type": "markdown",
   "metadata": {},
   "source": [
    "Observation :-\n",
    "\n",
    "The top 4 waether that contibutes to the accident are as follows:- Clear weather, Overcast, Scattered clouds and Mostly cloudy.\n",
    "\n",
    "From this we can say that, weather is not a major contributor to the accident. It is becoz most of the accidents have happened in CLEAR conditions. So weather is a contibuto to the accident but not the major contributor."
   ]
  },
  {
   "cell_type": "code",
   "execution_count": 133,
   "metadata": {},
   "outputs": [],
   "source": [
    "import datetime"
   ]
  },
  {
   "cell_type": "code",
   "execution_count": 134,
   "metadata": {},
   "outputs": [
    {
     "data": {
      "text/plain": [
       "Int64Index([2016, 2016, 2016, 2016, 2016, 2016, 2016, 2016, 2016, 2016,\n",
       "            ...\n",
       "            2018, 2018, 2018, 2018, 2018, 2018, 2018, 2018, 2018, 2018],\n",
       "           dtype='int64', name='Start_Time', length=1044)"
      ]
     },
     "execution_count": 134,
     "metadata": {},
     "output_type": "execute_result"
    }
   ],
   "source": [
    "dfyear = pd.DatetimeIndex(df['Start_Time']).year\n",
    "dfyear"
   ]
  },
  {
   "cell_type": "code",
   "execution_count": 135,
   "metadata": {},
   "outputs": [
    {
     "data": {
      "text/plain": [
       "2018    932\n",
       "2019    102\n",
       "2016     10\n",
       "Name: Start_Time, dtype: int64"
      ]
     },
     "execution_count": 135,
     "metadata": {},
     "output_type": "execute_result"
    }
   ],
   "source": [
    "year_count = pd.Series(dfyear.value_counts())\n",
    "year_count"
   ]
  },
  {
   "cell_type": "code",
   "execution_count": 136,
   "metadata": {},
   "outputs": [
    {
     "data": {
      "image/png": "[encoded data removed]",
      "text/plain": [
       "<Figure size 432x288 with 1 Axes>"
      ]
     },
     "metadata": {
      "needs_background": "light"
     },
     "output_type": "display_data"
    }
   ],
   "source": [
    "year_count.plot(kind='bar', color='purple')\n",
    "plt.show()"
   ]
  },
  {
   "cell_type": "markdown",
   "metadata": {},
   "source": [
    "Observation :-\n",
    "\n",
    "It is observed that most of the accident have happened in the year 2018. Around 85% percentage of the accidents have happened in the year 2018. And around 10 percentage of accidents in the year 2019. \n",
    "The least accidents have happened in the year 2016. It is very minimal that only 10 accidents have happened in that year."
   ]
  },
  {
   "cell_type": "code",
   "execution_count": 137,
   "metadata": {},
   "outputs": [],
   "source": [
    "# Using a trend chart state the time period in which more number of accidents has occurred (5 MARKS)"
   ]
  },
  {
   "cell_type": "code",
   "execution_count": 148,
   "metadata": {},
   "outputs": [
    {
     "data": {
      "image/png": "[encoded data removed]",
      "text/plain": [
       "<Figure size 1080x360 with 1 Axes>"
      ]
     },
     "metadata": {
      "needs_background": "light"
     },
     "output_type": "display_data"
    }
   ],
   "source": [
    "y = pd.DatetimeIndex(df['Start_Time']).year\n",
    "plt.figure(figsize=(15,5))\n",
    "sns.kdeplot(y)\n",
    "plt.show()"
   ]
  },
  {
   "cell_type": "markdown",
   "metadata": {},
   "source": [
    "Observation :-\n",
    "\n",
    "It is observed that the highest number of cases were recorded in the first quarter of 2018. To be more precise, it is during Jan-Feb month of 2018 we can observe a very big spike in the number of cases."
   ]
  }
 ],
 "metadata": {
  "kernelspec": {
   "display_name": "Python 3",
   "language": "python",
   "name": "python3"
  },
  "language_info": {
   "codemirror_mode": {
    "name": "ipython",
    "version": 3
   },
   "file_extension": ".py",
   "mimetype": "text/x-python",
   "name": "python",
   "nbconvert_exporter": "python",
   "pygments_lexer": "ipython3",
   "version": "3.8.3"
  }
 },
 "nbformat": 4,
 "nbformat_minor": 2
}
